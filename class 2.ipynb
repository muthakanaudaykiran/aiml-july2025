{
 "cells": [
  {
   "cell_type": "code",
   "execution_count": 2,
   "id": "0f59bd45-07ee-4d40-9e25-22570357ad91",
   "metadata": {},
   "outputs": [],
   "source": [
    "x=10"
   ]
  },
  {
   "cell_type": "code",
   "execution_count": 4,
   "id": "6aa4d25d-01cb-4db1-87c0-161836a3ed3f",
   "metadata": {},
   "outputs": [
    {
     "data": {
      "text/plain": [
       "['d', 't', '']"
      ]
     },
     "execution_count": 4,
     "metadata": {},
     "output_type": "execute_result"
    }
   ],
   "source": [
    "x=\"data\"\n",
    "x.split(\"a\")"
   ]
  },
  {
   "cell_type": "code",
   "execution_count": 5,
   "id": "efe2cdc8-af39-43a3-89b0-b56df664bef8",
   "metadata": {},
   "outputs": [
    {
     "data": {
      "text/plain": [
       "1"
      ]
     },
     "execution_count": 5,
     "metadata": {},
     "output_type": "execute_result"
    }
   ],
   "source": [
    "x=\"data scince\"\n",
    "x.count(\" \")"
   ]
  },
  {
   "cell_type": "code",
   "execution_count": 7,
   "id": "594b9c5c-6d3d-4e70-be99-4c14b3e151d1",
   "metadata": {},
   "outputs": [
    {
     "data": {
      "text/plain": [
       "'dxxxxtxxxx scince'"
      ]
     },
     "execution_count": 7,
     "metadata": {},
     "output_type": "execute_result"
    }
   ],
   "source": [
    "x=\"data scince\"\n",
    "x.replace(\"a\",\"xxxx\")"
   ]
  },
  {
   "cell_type": "code",
   "execution_count": 9,
   "id": "7fa59c42-adfc-4b32-990c-d32bc2953c38",
   "metadata": {},
   "outputs": [
    {
     "data": {
      "text/plain": [
       "'da'"
      ]
     },
     "execution_count": 9,
     "metadata": {},
     "output_type": "execute_result"
    }
   ],
   "source": [
    "x=\"data scince\"\n",
    "x[:2]"
   ]
  },
  {
   "cell_type": "code",
   "execution_count": 12,
   "id": "ac1f87e0-4bf0-474c-a0c0-7bc76dafff3e",
   "metadata": {},
   "outputs": [
    {
     "data": {
      "text/plain": [
       "'ce'"
      ]
     },
     "execution_count": 12,
     "metadata": {},
     "output_type": "execute_result"
    }
   ],
   "source": [
    "x=\"data scince\"\n",
    "x[-2:]"
   ]
  },
  {
   "cell_type": "code",
   "execution_count": 13,
   "id": "9cadfb61-be7b-4d0e-896f-68ad28daed0f",
   "metadata": {},
   "outputs": [
    {
     "data": {
      "text/plain": [
       "'nc'"
      ]
     },
     "execution_count": 13,
     "metadata": {},
     "output_type": "execute_result"
    }
   ],
   "source": [
    "x=\"data scince\"\n",
    "x[-3:-1]"
   ]
  },
  {
   "cell_type": "code",
   "execution_count": 16,
   "id": "b00d70fd-6687-47d4-9703-f914f289c4e9",
   "metadata": {},
   "outputs": [
    {
     "data": {
      "text/plain": [
       "'DA'"
      ]
     },
     "execution_count": 16,
     "metadata": {},
     "output_type": "execute_result"
    }
   ],
   "source": [
    "x=\"data scince\"\n",
    "x.upper()[0:2]"
   ]
  },
  {
   "cell_type": "code",
   "execution_count": 17,
   "id": "564702d1-130d-4ecf-97ad-3bdee53dca72",
   "metadata": {},
   "outputs": [
    {
     "data": {
      "text/plain": [
       "'DA'"
      ]
     },
     "execution_count": 17,
     "metadata": {},
     "output_type": "execute_result"
    }
   ],
   "source": [
    "x=\"data scince\"\n",
    "x[0:2].upper()"
   ]
  },
  {
   "cell_type": "code",
   "execution_count": 18,
   "id": "bc96fa5f-3498-4a87-b24e-69cdf8c336ec",
   "metadata": {},
   "outputs": [
    {
     "data": {
      "text/plain": [
       "'scienCE'"
      ]
     },
     "execution_count": 18,
     "metadata": {},
     "output_type": "execute_result"
    }
   ],
   "source": [
    "x=\"data SCIENce\"\n",
    "x[5:].swapcase()"
   ]
  },
  {
   "cell_type": "code",
   "execution_count": 20,
   "id": "00a653cd-5c4a-41ca-af94-9c33a4165adb",
   "metadata": {},
   "outputs": [
    {
     "data": {
      "text/plain": [
       "'data                                                                                                scincece'"
      ]
     },
     "execution_count": 20,
     "metadata": {},
     "output_type": "execute_result"
    }
   ],
   "source": [
    "x=\"data \\tscincece\"\n",
    "x.expandtabs(100)"
   ]
  },
  {
   "cell_type": "code",
   "execution_count": 22,
   "id": "0bee5683-4710-495d-b339-b9008c9ddfe3",
   "metadata": {},
   "outputs": [
    {
     "data": {
      "text/plain": [
       "'data scincece'"
      ]
     },
     "execution_count": 22,
     "metadata": {},
     "output_type": "execute_result"
    }
   ],
   "source": [
    "x=\"data scincece\"\n",
    "x.expandtabs(100)"
   ]
  },
  {
   "cell_type": "code",
   "execution_count": 24,
   "id": "48c87d76-114f-46f3-9bc0-5a3fcb219228",
   "metadata": {},
   "outputs": [
    {
     "data": {
      "text/plain": [
       "False"
      ]
     },
     "execution_count": 24,
     "metadata": {},
     "output_type": "execute_result"
    }
   ],
   "source": [
    "x=\"data\"\n",
    "x.isspace()"
   ]
  },
  {
   "cell_type": "code",
   "execution_count": 28,
   "id": "a3a20012-c392-4a4d-a1bb-a2e7efa07501",
   "metadata": {},
   "outputs": [
    {
     "data": {
      "text/plain": [
       "9"
      ]
     },
     "execution_count": 28,
     "metadata": {},
     "output_type": "execute_result"
    }
   ],
   "source": [
    "x=\"machine learning\"\n",
    "x.find(\"e\",7)"
   ]
  },
  {
   "cell_type": "code",
   "execution_count": 30,
   "id": "818a380e-fb8c-41e2-9a2f-1c73b14f8b84",
   "metadata": {},
   "outputs": [
    {
     "data": {
      "text/plain": [
       "'***data***'"
      ]
     },
     "execution_count": 30,
     "metadata": {},
     "output_type": "execute_result"
    }
   ],
   "source": [
    "x=\"data\"\n",
    "x.center(10,\"*\")"
   ]
  },
  {
   "cell_type": "code",
   "execution_count": 31,
   "id": "0be5e037-5dd4-4787-9418-434890395b49",
   "metadata": {},
   "outputs": [
    {
     "data": {
      "text/plain": [
       "'   data   '"
      ]
     },
     "execution_count": 31,
     "metadata": {},
     "output_type": "execute_result"
    }
   ],
   "source": [
    "x=\"data\"\n",
    "x.center(10)"
   ]
  },
  {
   "cell_type": "code",
   "execution_count": 32,
   "id": "880b328c-47f7-4eb2-aee3-6b05adba8c08",
   "metadata": {},
   "outputs": [
    {
     "data": {
      "text/plain": [
       "'000000data'"
      ]
     },
     "execution_count": 32,
     "metadata": {},
     "output_type": "execute_result"
    }
   ],
   "source": [
    "x=\"data\"\n",
    "x.zfill(10)"
   ]
  },
  {
   "cell_type": "code",
   "execution_count": 33,
   "id": "65ff6591-8acc-40de-aff2-c31aa3bb76d4",
   "metadata": {},
   "outputs": [
    {
     "data": {
      "text/plain": [
       "'data'"
      ]
     },
     "execution_count": 33,
     "metadata": {},
     "output_type": "execute_result"
    }
   ],
   "source": [
    "x=\" data \"\n",
    "x.strip()"
   ]
  },
  {
   "cell_type": "code",
   "execution_count": 34,
   "id": "a60b4a96-aa1d-4ad8-afdb-f6b52884aa89",
   "metadata": {},
   "outputs": [
    {
     "data": {
      "text/plain": [
       "'**** data '"
      ]
     },
     "execution_count": 34,
     "metadata": {},
     "output_type": "execute_result"
    }
   ],
   "source": [
    "x.rjust(10,\"*\")"
   ]
  }
 ],
 "metadata": {
  "kernelspec": {
   "display_name": "Python 3 (ipykernel)",
   "language": "python",
   "name": "python3"
  },
  "language_info": {
   "codemirror_mode": {
    "name": "ipython",
    "version": 3
   },
   "file_extension": ".py",
   "mimetype": "text/x-python",
   "name": "python",
   "nbconvert_exporter": "python",
   "pygments_lexer": "ipython3",
   "version": "3.13.5"
  }
 },
 "nbformat": 4,
 "nbformat_minor": 5
}
