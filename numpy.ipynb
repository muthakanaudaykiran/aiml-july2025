{
 "cells": [
  {
   "cell_type": "code",
   "execution_count": 1,
   "id": "16a01440-d509-4ef2-b528-e918172e2238",
   "metadata": {},
   "outputs": [
    {
     "name": "stdout",
     "output_type": "stream",
     "text": [
      "[[    1 25000   300  1200    10]\n",
      " [    2 32000   450  1500    15]\n",
      " [    3 28000   380  1100     8]\n",
      " [    4 41000   500  1600    20]\n",
      " [    5 35000   420  1400    12]\n",
      " [    6 27000   360  1300     9]\n",
      " [    7 39000   480  1700    18]\n",
      " [    8 30000   400  1250    14]\n",
      " [    9 45000   550  1800    25]\n",
      " [   10 33000   410  1450    11]]\n"
     ]
    }
   ],
   "source": [
    "import numpy as np\n",
    "\n",
    "# Manually created array: [Store ID, Sales, Customers, Inventory, Returns]\n",
    "retail_data = np.array([\n",
    "    [1, 25000, 300, 1200, 10],\n",
    "    [2, 32000, 450, 1500, 15],\n",
    "    [3, 28000, 380, 1100, 8],\n",
    "    [4, 41000, 500, 1600, 20],\n",
    "    [5, 35000, 420, 1400, 12],\n",
    "    [6, 27000, 360, 1300, 9],\n",
    "    [7, 39000, 480, 1700, 18],\n",
    "    [8, 30000, 400, 1250, 14],\n",
    "    [9, 45000, 550, 1800, 25],\n",
    "    [10, 33000, 410, 1450, 11]\n",
    "])\n",
    "\n",
    "print(retail_data)\n"
   ]
  },
  {
   "cell_type": "code",
   "execution_count": 3,
   "id": "edd9936f-6120-43fa-9a6d-d0e46c66862b",
   "metadata": {},
   "outputs": [
    {
     "name": "stdout",
     "output_type": "stream",
     "text": [
      "335000\n"
     ]
    }
   ],
   "source": [
    "# 1. What is the **total revenue** generated across all stores?\n",
    "total_revenue = np.sum(retail_data[:, 1])\n",
    "print(total_revenue)"
   ]
  },
  {
   "cell_type": "code",
   "execution_count": 4,
   "id": "380d13d7-1f95-4a99-a29f-4e78a7d8cee1",
   "metadata": {},
   "outputs": [
    {
     "name": "stdout",
     "output_type": "stream",
     "text": [
      "9\n"
     ]
    }
   ],
   "source": [
    "\n",
    "# 2. Which store recorded the **highest sales**?\n",
    "highest_sales=retail_data[:,1].argmax()+1\n",
    "print(highest_sales)"
   ]
  },
  {
   "cell_type": "code",
   "execution_count": 5,
   "id": "473a3607-45e6-4e5a-b5fa-fc70e31f25b5",
   "metadata": {},
   "outputs": [
    {
     "name": "stdout",
     "output_type": "stream",
     "text": [
      "1\n"
     ]
    }
   ],
   "source": [
    "# 3. Which store recorded the **lowest sales**?\n",
    "lowest_sales=retail_data[:,1].argmin()+1\n",
    "print(lowest_sales)"
   ]
  },
  {
   "cell_type": "code",
   "execution_count": 6,
   "id": "d020e903-b4fb-4e80-90ee-8cc6405d96c0",
   "metadata": {},
   "outputs": [
    {
     "name": "stdout",
     "output_type": "stream",
     "text": [
      "33500.0\n"
     ]
    }
   ],
   "source": [
    "# 4. What is the **average daily sales** per store?\n",
    "average_daily_sales=retail_data[:,1].mean()\n",
    "print(average_daily_sales)\n",
    "     \n"
   ]
  },
  {
   "cell_type": "code",
   "execution_count": 7,
   "id": "79c914a9-57e8-4e01-8505-14cd49b37bc3",
   "metadata": {},
   "outputs": [
    {
     "name": "stdout",
     "output_type": "stream",
     "text": [
      "3\n"
     ]
    }
   ],
   "source": [
    "\n",
    "# 5. How many stores achieved sales **above ₹35,000**?\n",
    "sales=retail_data[:,1]\n",
    "\n",
    "count_above_35k=np.sum(sales>35000)\n",
    "print(count_above_35k)"
   ]
  },
  {
   "cell_type": "code",
   "execution_count": 8,
   "id": "640dbddb-ad41-45bb-98d8-0efad426cdb4",
   "metadata": {},
   "outputs": [
    {
     "data": {
      "text/plain": [
       "np.int64(9)"
      ]
     },
     "execution_count": 8,
     "metadata": {},
     "output_type": "execute_result"
    }
   ],
   "source": [
    "# 6. Which store had the **highest customer footfall**?\n",
    "retail_data[:,2].argmax()+1"
   ]
  },
  {
   "cell_type": "code",
   "execution_count": 9,
   "id": "3f142533-dee5-4e9f-8e54-cc996c5bebf9",
   "metadata": {},
   "outputs": [
    {
     "data": {
      "text/plain": [
       "np.float64(425.0)"
      ]
     },
     "execution_count": 9,
     "metadata": {},
     "output_type": "execute_result"
    }
   ],
   "source": [
    "# 7. What is the **average number of customers** per store?\n",
    "retail_data[:,2].mean()\n",
    "     "
   ]
  },
  {
   "cell_type": "code",
   "execution_count": 10,
   "id": "b2299472-f94f-4432-ad0e-3aaa78bbb780",
   "metadata": {},
   "outputs": [
    {
     "name": "stdout",
     "output_type": "stream",
     "text": [
      "3\n"
     ]
    }
   ],
   "source": [
    "# 8. How many stores have **more than 450 customers**?\n",
    "customers=retail_data[:,2]\n",
    "\n",
    "count_above_450=np.sum(customers>450)\n",
    "print(count_above_450)"
   ]
  },
  {
   "cell_type": "code",
   "execution_count": 14,
   "id": "5d3436e5-eeff-4fcb-a461-71a7b7c03d84",
   "metadata": {},
   "outputs": [
    {
     "data": {
      "text/plain": [
       "np.int64(1)"
      ]
     },
     "execution_count": 14,
     "metadata": {},
     "output_type": "execute_result"
    }
   ],
   "source": [
    " #9. Which store has the **lowest customer count**?\n",
    "\n",
    "customers=retail_data[:,2].argmin()+1\n",
    "customers"
   ]
  },
  {
   "cell_type": "code",
   "execution_count": 16,
   "id": "95b16578-f617-4a19-8691-4d480b382ed6",
   "metadata": {},
   "outputs": [
    {
     "data": {
      "text/plain": [
       "np.float64(33500.0)"
      ]
     },
     "execution_count": 16,
     "metadata": {},
     "output_type": "execute_result"
    }
   ],
   "source": [
    "retail_data[:,1].mean()"
   ]
  },
  {
   "cell_type": "code",
   "execution_count": null,
   "id": "bccbb6b7-45c0-4b3c-baca-6bba5c102caf",
   "metadata": {},
   "outputs": [],
   "source": []
  },
  {
   "cell_type": "code",
   "execution_count": 15,
   "id": "1d6ade3c-b228-4ba7-bd6a-5ef4fd20d7cc",
   "metadata": {},
   "outputs": [
    {
     "data": {
      "text/plain": [
       "np.float64(425.0)"
      ]
     },
     "execution_count": 15,
     "metadata": {},
     "output_type": "execute_result"
    }
   ],
   "source": [
    "retail_data[:,2].mean()"
   ]
  },
  {
   "cell_type": "code",
   "execution_count": 17,
   "id": "a1e44e94-01da-4f46-8f81-60347240ad49",
   "metadata": {},
   "outputs": [
    {
     "data": {
      "text/plain": [
       "array([[    5, 35000,   420,  1400,    12]])"
      ]
     },
     "execution_count": 17,
     "metadata": {},
     "output_type": "execute_result"
    }
   ],
   "source": [
    "# 10. Is there any store where **high sales do not correspond to high customers**?\n",
    "\n",
    "sal = retail_data[:,1].mean()\n",
    "cus = retail_data[:,2].mean()\n",
    "mis = retail_data[(retail_data[:,1] > sal) & (retail_data[:,2] < cus)]\n",
    "mis"
   ]
  },
  {
   "cell_type": "code",
   "execution_count": 18,
   "id": "7a4dfef0-07c6-4948-8027-4d1ccb823785",
   "metadata": {},
   "outputs": [
    {
     "data": {
      "text/plain": [
       "np.int64(14300)"
      ]
     },
     "execution_count": 18,
     "metadata": {},
     "output_type": "execute_result"
    }
   ],
   "source": [
    "# 11. What is the **total inventory** across all stores?\n",
    "total_inventory=sum(retail_data[:,3])\n",
    "total_inventory"
   ]
  },
  {
   "cell_type": "code",
   "execution_count": 19,
   "id": "68cc7290-fd49-49f0-ab02-e5ac9f46a58f",
   "metadata": {},
   "outputs": [
    {
     "data": {
      "text/plain": [
       "np.int64(1800)"
      ]
     },
     "execution_count": 19,
     "metadata": {},
     "output_type": "execute_result"
    }
   ],
   "source": [
    "# 12. Which store has the **highest inventory stock**?\n",
    "retail_data[:,3].max()"
   ]
  },
  {
   "cell_type": "code",
   "execution_count": 21,
   "id": "b1e4b097-41c5-42fc-a1f3-65ad7464bb5c",
   "metadata": {},
   "outputs": [
    {
     "data": {
      "text/plain": [
       "np.int64(3)"
      ]
     },
     "execution_count": 21,
     "metadata": {},
     "output_type": "execute_result"
    }
   ],
   "source": [
    "# 13. How many stores have **inventory less than 1300 units**?\n",
    "inventory=retail_data[:,3]\n",
    "\n",
    "inventoy_less_than_1300=np.sum(inventory < 1300)\n",
    "inventoy_less_than_1300"
   ]
  },
  {
   "cell_type": "code",
   "execution_count": 22,
   "id": "b6d8a9f7-e306-49cc-babf-3d89696a8c81",
   "metadata": {},
   "outputs": [
    {
     "name": "stdout",
     "output_type": "stream",
     "text": [
      "8\n"
     ]
    }
   ],
   "source": [
    "# 14. Which store has the **highest return rate** (returns ÷ inventory)?\n",
    "\n",
    "# Extract columns\n",
    "returns = retail_data[:, 4]\n",
    "inventory = retail_data[:, 3]\n",
    "\n",
    "# Calculate return rate\n",
    "return_rate = returns / inventory\n",
    "\n",
    "# Get index of max return rate\n",
    "max_index = np.argmax(return_rate)\n",
    "\n",
    "print(max_index)\n"
   ]
  },
  {
   "cell_type": "code",
   "execution_count": 23,
   "id": "903c6ab3-de41-43b6-8229-255df55a5266",
   "metadata": {},
   "outputs": [
    {
     "name": "stdout",
     "output_type": "stream",
     "text": [
      "3\n"
     ]
    }
   ],
   "source": [
    "# 15. Which stores have **returns greater than 15 units**?\n",
    "returns=retail_data[:,4]\n",
    "\n",
    "returns_greater_than_15=np.sum(returns > 15)\n",
    "print(returns_greater_than_15)"
   ]
  },
  {
   "cell_type": "code",
   "execution_count": 24,
   "id": "c1415e08-3d62-4700-8c18-191a8b2f820f",
   "metadata": {},
   "outputs": [
    {
     "name": "stdout",
     "output_type": "stream",
     "text": [
      "0.9593636912502479\n"
     ]
    }
   ],
   "source": [
    "# 16. Is there a **positive correlation** between sales and customers?\n",
    "sales=retail_data[:,1]\n",
    "customers=retail_data[:,2]\n",
    "\n",
    "correlation_matrix=np.corrcoef(sales,customers)\n",
    "print(correlation_matrix[0,1])"
   ]
  },
  {
   "cell_type": "code",
   "execution_count": 25,
   "id": "eb25cc4b-4db9-423e-b51c-ec9b873bebb5",
   "metadata": {},
   "outputs": [
    {
     "data": {
      "text/plain": [
       "array([[    2, 32000,   450,  1500,    15]])"
      ]
     },
     "execution_count": 25,
     "metadata": {},
     "output_type": "execute_result"
    }
   ],
   "source": [
    "# 17. Which store has **high customer visits but low sales**?\n",
    "first = retail_data[:,2].mean()\n",
    "sec = retail_data[:,1].mean()\n",
    "res = retail_data[(retail_data[:,2] > first) & (retail_data[:,1] < sec)]\n",
    "res"
   ]
  },
  {
   "cell_type": "code",
   "execution_count": 26,
   "id": "d22c5c7b-4566-41e4-aaf8-3d3744f4c43d",
   "metadata": {},
   "outputs": [
    {
     "name": "stdout",
     "output_type": "stream",
     "text": [
      "Stores with low customers but high sales:\n",
      " [[    5 35000   420  1400    12]]\n"
     ]
    }
   ],
   "source": [
    "#  18. Which store has **low customers but high sales**?\n",
    "# Extract columns\n",
    "sales = retail_data[:, 1].mean()\n",
    "customers = retail_data[:, 2].mean()\n",
    "\n",
    "\n",
    "# Condition: low customers, high sales\n",
    "stores_low_cust_high_sales = retail_data[(retail_data[:,2] < customers) & (retail_data[:,1] > sales)]\n",
    "\n",
    "print(\"Stores with low customers but high sales:\\n\", stores_low_cust_high_sales)"
   ]
  },
  {
   "cell_type": "code",
   "execution_count": 29,
   "id": "35b1e054-cc6d-4358-b4cf-3f49569131c0",
   "metadata": {},
   "outputs": [
    {
     "name": "stdout",
     "output_type": "stream",
     "text": [
      "Stores that could benefit from acquisition campaigns:\n",
      " [[   10 33000   410  1450    11]]\n"
     ]
    }
   ],
   "source": [
    "# 20. Which stores could **benefit from customer acquisition campaigns** (low customers, high inventory)?\n",
    "# Extract columns\n",
    "customers = retail_data[:, 2].mean()\n",
    "inventory = retail_data[:, 3].mean()\n",
    "avg_customers = np.mean(retail_data[:, 2].astype(int))\n",
    "avg_inventory = np.mean(retail_data[:, 3].astype(int))\n",
    "\n",
    "# Condition: low customers AND high inventory\n",
    "stores_to_target = retail_data[(retail_data[:, 2] < avg_customers) & (retail_data[:, 3] > avg_inventory)]\n",
    "print(\"Stores that could benefit from acquisition campaigns:\\n\", stores_to_target)\n"
   ]
  },
  {
   "cell_type": "code",
   "execution_count": 30,
   "id": "8738be5b-68e2-473c-bb99-d2284bcb4d8e",
   "metadata": {},
   "outputs": [
    {
     "name": "stdout",
     "output_type": "stream",
     "text": [
      "Profit per store:\n",
      " [5000. 6400. 5600. 8200. 7000. 5400. 7800. 6000. 9000. 6600.]\n"
     ]
    }
   ],
   "source": [
    "# If profit margin is **20% of sales**, what is the **profit per store**?\n",
    "# Extract sales column\n",
    "sales = retail_data[:, 1]\n",
    "\n",
    "# Calculate profit per store\n",
    "profit_per_store = sales * 0.20\n",
    "\n",
    "print(\"Profit per store:\\n\", profit_per_store)\n"
   ]
  },
  {
   "cell_type": "code",
   "execution_count": 31,
   "id": "54d68dee-2b00-433c-8293-78366c77019d",
   "metadata": {},
   "outputs": [
    {
     "name": "stdout",
     "output_type": "stream",
     "text": [
      "8\n"
     ]
    }
   ],
   "source": [
    "# 22. Which store has the **highest profit**?\n",
    "# Extract sales column\n",
    "sales = retail_data[:, 1]\n",
    "\n",
    "# Calculate profit per store\n",
    "profit_per_store = sales * 0.20\n",
    "\n",
    "max_index = np.argmax(profit_per_store)\n",
    "print(max_index)"
   ]
  },
  {
   "cell_type": "code",
   "execution_count": 32,
   "id": "7f32a8e2-7dc6-4d70-8478-9458eb5ff7cc",
   "metadata": {},
   "outputs": [
    {
     "name": "stdout",
     "output_type": "stream",
     "text": [
      "0\n"
     ]
    }
   ],
   "source": [
    "# 23. Which store has the **lowest profit**?\n",
    "sales = retail_data[:, 1]\n",
    "\n",
    "# Calculate profit per store\n",
    "profit_per_store = sales * 0.20\n",
    "\n",
    "max_index = np.argmin(profit_per_store)\n",
    "print(max_index)\n",
    "     "
   ]
  },
  {
   "cell_type": "code",
   "execution_count": 33,
   "id": "07890102-5650-47d8-9341-e9f860630f55",
   "metadata": {},
   "outputs": [
    {
     "name": "stdout",
     "output_type": "stream",
     "text": [
      "New sales figures after 10% increase:\n",
      " [27500. 35200. 30800. 45100. 38500. 29700. 42900. 33000. 49500. 36300.]\n"
     ]
    }
   ],
   "source": [
    "# 24. If sales increase by **10% next month**, what are the **new sales figures**?\n",
    "# Extract sales column\n",
    "sales = retail_data[:, 1]\n",
    "\n",
    "# Calculate new sales after 10% increase\n",
    "new_sales = sales * 1.10\n",
    "\n",
    "print(\"New sales figures after 10% increase:\\n\", new_sales)"
   ]
  },
  {
   "cell_type": "code",
   "execution_count": 34,
   "id": "fe423a47-bf45-4403-8449-c7cd0a2c4351",
   "metadata": {},
   "outputs": [
    {
     "name": "stdout",
     "output_type": "stream",
     "text": [
      "Old Total Profit: 67000.0\n",
      "New Total Profit: 73700.0\n",
      "Profit Change: 6700.0\n"
     ]
    }
   ],
   "source": [
    "# 25. How will **total profit** change with the 10% sales increase?\n",
    "\n",
    "# Extract sales column\n",
    "sales = retail_data[:, 1]\n",
    "\n",
    "# Old total profit\n",
    "old_total_profit = (sales * 0.20).sum()\n",
    "\n",
    "# New sales after 10% increase\n",
    "new_sales = sales * 1.10\n",
    "\n",
    "# New total profit\n",
    "new_total_profit = (new_sales * 0.20).sum()\n",
    "\n",
    "# Change in profit\n",
    "profit_change = new_total_profit - old_total_profit\n",
    "\n",
    "print(\"Old Total Profit:\", old_total_profit)\n",
    "print(\"New Total Profit:\", new_total_profit)\n",
    "print(\"Profit Change:\", profit_change)"
   ]
  },
  {
   "cell_type": "code",
   "execution_count": 35,
   "id": "9de37c1f-cab1-4584-81d5-480c83e67cb7",
   "metadata": {},
   "outputs": [
    {
     "name": "stdout",
     "output_type": "stream",
     "text": [
      "Stores needing restocking based on sales vs inventory:\n",
      " [[    1 25000   300  1200    10]\n",
      " [    2 32000   450  1500    15]\n",
      " [    3 28000   380  1100     8]\n",
      " [    4 41000   500  1600    20]\n",
      " [    5 35000   420  1400    12]\n",
      " [    6 27000   360  1300     9]\n",
      " [    7 39000   480  1700    18]\n",
      " [    8 30000   400  1250    14]\n",
      " [    9 45000   550  1800    25]\n",
      " [   10 33000   410  1450    11]]\n"
     ]
    }
   ],
   "source": [
    "# 26.Which stores need **inventory restocking** based on sales and current stock?\n",
    "# Extract sales and inventory columns\n",
    "sales = retail_data[:, 1]\n",
    "inventory = retail_data[:, 3]\n",
    "\n",
    "# Condition: sales greater than inventory\n",
    "stores_to_restock = retail_data[sales > inventory]\n",
    "\n",
    "print(\"Stores needing restocking based on sales vs inventory:\\n\", stores_to_restock)"
   ]
  },
  {
   "cell_type": "code",
   "execution_count": null,
   "id": "6860bc04-4fe4-4155-8c7e-3c4ed9f3e11c",
   "metadata": {},
   "outputs": [],
   "source": []
  },
  {
   "cell_type": "code",
   "execution_count": null,
   "id": "42b3dc67-8643-464f-a58e-8e2692945618",
   "metadata": {},
   "outputs": [],
   "source": []
  },
  {
   "cell_type": "code",
   "execution_count": null,
   "id": "41889f65-037e-4c2a-aa99-0e466c8f7bf0",
   "metadata": {},
   "outputs": [],
   "source": [
    "\n"
   ]
  },
  {
   "cell_type": "code",
   "execution_count": null,
   "id": "f0772a41-7584-45a7-8dfa-f568b752aa3a",
   "metadata": {},
   "outputs": [],
   "source": []
  },
  {
   "cell_type": "code",
   "execution_count": null,
   "id": "2c66b09c-b955-48c5-a7ef-f244e1fa7bbb",
   "metadata": {},
   "outputs": [],
   "source": []
  },
  {
   "cell_type": "code",
   "execution_count": null,
   "id": "0c38595f-972b-465b-b337-f7ad23872a86",
   "metadata": {},
   "outputs": [],
   "source": []
  },
  {
   "cell_type": "code",
   "execution_count": 3,
   "id": "51fe358b-d0ce-4ef3-8e1f-ba7e3f11eace",
   "metadata": {},
   "outputs": [
    {
     "ename": "NameError",
     "evalue": "name 'retail_data' is not defined",
     "output_type": "error",
     "traceback": [
      "\u001b[31m---------------------------------------------------------------------------\u001b[39m",
      "\u001b[31mNameError\u001b[39m                                 Traceback (most recent call last)",
      "\u001b[36mCell\u001b[39m\u001b[36m \u001b[39m\u001b[32mIn[3]\u001b[39m\u001b[32m, line 2\u001b[39m\n\u001b[32m      1\u001b[39m \u001b[38;5;66;03m# 2. Which store recorded the **highest sales**?\u001b[39;00m\n\u001b[32m----> \u001b[39m\u001b[32m2\u001b[39m highest_sales=\u001b[43mretail_data\u001b[49m[:,\u001b[32m1\u001b[39m].argmax()+\u001b[32m1\u001b[39m\n\u001b[32m      3\u001b[39m \u001b[38;5;28mprint\u001b[39m(highest_sales) \n",
      "\u001b[31mNameError\u001b[39m: name 'retail_data' is not defined"
     ]
    }
   ],
   "source": []
  },
  {
   "cell_type": "code",
   "execution_count": null,
   "id": "e36a07be-7779-4109-bcad-776bba9483d2",
   "metadata": {},
   "outputs": [],
   "source": []
  }
 ],
 "metadata": {
  "kernelspec": {
   "display_name": "Python 3 (ipykernel)",
   "language": "python",
   "name": "python3"
  },
  "language_info": {
   "codemirror_mode": {
    "name": "ipython",
    "version": 3
   },
   "file_extension": ".py",
   "mimetype": "text/x-python",
   "name": "python",
   "nbconvert_exporter": "python",
   "pygments_lexer": "ipython3",
   "version": "3.13.5"
  }
 },
 "nbformat": 4,
 "nbformat_minor": 5
}
