{
 "cells": [
  {
   "cell_type": "code",
   "execution_count": 1,
   "id": "1c1e71cb-60df-4ab6-a811-ef4e364e7e4f",
   "metadata": {},
   "outputs": [
    {
     "name": "stdout",
     "output_type": "stream",
     "text": [
      "gnimmargorP nohtyP\n"
     ]
    }
   ],
   "source": [
    "#Question 1: Reverse the string \"Python Programming\"\n",
    "\n",
    "text = \"Python Programming\"\n",
    "reversed_text = text[::-1]\n",
    "print(reversed_text)\n"
   ]
  },
  {
   "cell_type": "code",
   "execution_count": 1,
   "id": "aeb10104-fa3b-4d18-8b67-795c534583f3",
   "metadata": {},
   "outputs": [
    {
     "name": "stdout",
     "output_type": "stream",
     "text": [
      "\"racecar\" is a palindrome.\n"
     ]
    }
   ],
   "source": [
    "# Question 2: Check if \"racecar\" is a palindrome\n",
    "\n",
    "text = \"racecar\"\n",
    "if text == text[::-1]:\n",
    "    print(f'\"{text}\" is a palindrome.')\n",
    "else:\n",
    "    print(f'\"{text}\" is not a palindrome.')\n"
   ]
  },
  {
   "cell_type": "code",
   "execution_count": 2,
   "id": "86112705-1920-45bc-a6a6-6399fca16838",
   "metadata": {},
   "outputs": [
    {
     "name": "stdout",
     "output_type": "stream",
     "text": [
      "Number of words: 6\n"
     ]
    }
   ],
   "source": [
    "#Question 3: Count the number of words in \"Python is a great programming language\"\n",
    "\n",
    "text = \"Python is a great programming language\"\n",
    "word_count = len(text.split())\n",
    "print(\"Number of words:\", word_count)\n"
   ]
  },
  {
   "cell_type": "code",
   "execution_count": 3,
   "id": "c0f3731a-47d4-4fdc-bdba-9d1f5e567634",
   "metadata": {},
   "outputs": [
    {
     "name": "stdout",
     "output_type": "stream",
     "text": [
      "Hello World\n"
     ]
    }
   ],
   "source": [
    "# Question 4: Convert \"hello world\" to title case\n",
    "text = \"hello world\"\n",
    "title_case_text = text.title()\n",
    "print(title_case_text)"
   ]
  },
  {
   "cell_type": "code",
   "execution_count": 4,
   "id": "b2160690-3ec5-4728-b4e2-666817a5b408",
   "metadata": {},
   "outputs": [
    {
     "name": "stdout",
     "output_type": "stream",
     "text": [
      "Length of the string: 12\n"
     ]
    }
   ],
   "source": [
    "# Question 5: Find the length of string \"Data Science\"\n",
    "text = \"Data Science\"\n",
    "length = len(text)\n",
    "print(\"Length of the string:\", length)\n"
   ]
  },
  {
   "cell_type": "code",
   "execution_count": 5,
   "id": "87df515e-d54b-433a-b70d-d51c23dbae17",
   "metadata": {},
   "outputs": [
    {
     "name": "stdout",
     "output_type": "stream",
     "text": [
      "Machine_Learning\n"
     ]
    }
   ],
   "source": [
    "# Question 6: Replace all spaces with underscores in \"Machine Learning\"\n",
    "\n",
    "text = \"Machine Learning\"\n",
    "updated_text = text.replace(\" \", \"_\")\n",
    "print(updated_text)\n"
   ]
  },
  {
   "cell_type": "code",
   "execution_count": 6,
   "id": "f9ebe319-934e-4bfc-8751-3c7ad38f57cb",
   "metadata": {},
   "outputs": [],
   "source": [
    "# Question 7: Check if \"python\" is in \"Python Programming Language\""
   ]
  },
  {
   "cell_type": "code",
   "execution_count": 7,
   "id": "b505b909-546c-4610-b010-13cc2d3cd03b",
   "metadata": {},
   "outputs": [
    {
     "data": {
      "text/plain": [
       "'Artifi'"
      ]
     },
     "execution_count": 7,
     "metadata": {},
     "output_type": "execute_result"
    }
   ],
   "source": [
    "text=\"Artificial intelligence\"\n",
    "text[0:6]"
   ]
  },
  {
   "cell_type": "code",
   "execution_count": 8,
   "id": "3b04b203-ba6b-440b-b4bc-b5c3a18eeb6a",
   "metadata": {},
   "outputs": [
    {
     "data": {
      "text/plain": [
       "'uppercase'"
      ]
     },
     "execution_count": 8,
     "metadata": {},
     "output_type": "execute_result"
    }
   ],
   "source": [
    "word=\"UPPERCASE\"\n",
    "word.lower()"
   ]
  },
  {
   "cell_type": "code",
   "execution_count": 9,
   "id": "d7b6e151-5668-4fd3-ad83-adc96ec046d1",
   "metadata": {},
   "outputs": [
    {
     "name": "stdout",
     "output_type": "stream",
     "text": [
      "Cmptr Scnc\n"
     ]
    }
   ],
   "source": [
    "string=\"Computer Science\"\n",
    "vowels=\"aeiouAEIOU\"\n",
    "result=''.join(i for i in string if i not in vowels)\n",
    "print(result)"
   ]
  },
  {
   "cell_type": "code",
   "execution_count": 10,
   "id": "6493bd4d-63f6-4982-b99e-5655de391520",
   "metadata": {},
   "outputs": [
    {
     "name": "stdout",
     "output_type": "stream",
     "text": [
      "it is not same\n"
     ]
    }
   ],
   "source": [
    "a=\"listn\"\n",
    "b=\"silent\"\n",
    "if sorted(a)==sorted(b):\n",
    "    print(\"yes it is same\")\n",
    "else:\n",
    "    print(\"it is not same\")"
   ]
  },
  {
   "cell_type": "code",
   "execution_count": 11,
   "id": "c6f179c0-4624-4d74-9ced-e2078838e0d6",
   "metadata": {},
   "outputs": [
    {
     "data": {
      "text/plain": [
       "8"
      ]
     },
     "execution_count": 11,
     "metadata": {},
     "output_type": "execute_result"
    }
   ],
   "source": [
    "string=\"Hello world\"\n",
    "vowels=\"aeiouAEIOU\"\n",
    "result=''.join(i for i in string if i not in vowels)\n",
    "len(result)"
   ]
  },
  {
   "cell_type": "code",
   "execution_count": 12,
   "id": "50910379-dd73-41b9-947d-f920a076b100",
   "metadata": {},
   "outputs": [
    {
     "name": "stdout",
     "output_type": "stream",
     "text": [
      "programming\n"
     ]
    }
   ],
   "source": [
    "string=\"Python programming language\"\n",
    "word=string.split()\n",
    "long=max(word)\n",
    "print(long)"
   ]
  },
  {
   "cell_type": "code",
   "execution_count": 13,
   "id": "70111349-64de-47d0-9da7-474633591749",
   "metadata": {},
   "outputs": [
    {
     "data": {
      "text/plain": [
       "False"
      ]
     },
     "execution_count": 13,
     "metadata": {},
     "output_type": "execute_result"
    }
   ],
   "source": [
    "sent=\"Hello, World! how are you!\"\n",
    "sent.isalpha()"
   ]
  },
  {
   "cell_type": "code",
   "execution_count": 14,
   "id": "8896e465-b40c-4596-853e-f46cbc677156",
   "metadata": {},
   "outputs": [
    {
     "data": {
      "text/plain": [
       "True"
      ]
     },
     "execution_count": 14,
     "metadata": {},
     "output_type": "execute_result"
    }
   ],
   "source": [
    "string=\"python\"\n",
    "string.startswith(\"python\")"
   ]
  },
  {
   "cell_type": "code",
   "execution_count": 15,
   "id": "b5b14044-b93e-49e1-b8c4-91ead21df0bb",
   "metadata": {},
   "outputs": [
    {
     "data": {
      "text/plain": [
       "4"
      ]
     },
     "execution_count": 15,
     "metadata": {},
     "output_type": "execute_result"
    }
   ],
   "source": [
    "string=\"hello world\"\n",
    "string.index(\"o\")"
   ]
  },
  {
   "cell_type": "code",
   "execution_count": 16,
   "id": "a3be2494-4fb2-40eb-af75-8d128a99683c",
   "metadata": {},
   "outputs": [
    {
     "data": {
      "text/plain": [
       "['apple', 'banana', 'orange']"
      ]
     },
     "execution_count": 16,
     "metadata": {},
     "output_type": "execute_result"
    }
   ],
   "source": [
    "var=\"apple,banana,orange\"\n",
    "var.split(',')"
   ]
  },
  {
   "cell_type": "code",
   "execution_count": 17,
   "id": "bea3e439-5502-49ec-b76c-ca0413381e93",
   "metadata": {},
   "outputs": [
    {
     "data": {
      "text/plain": [
       "' '"
      ]
     },
     "execution_count": 17,
     "metadata": {},
     "output_type": "execute_result"
    }
   ],
   "source": [
    "list=['Python', 'is', 'awesome'] \n",
    "new=str(list)\n",
    "new.join(' ')"
   ]
  },
  {
   "cell_type": "code",
   "execution_count": 18,
   "id": "6b8b98d9-6b74-4738-9b61-5f9a5cac4700",
   "metadata": {},
   "outputs": [
    {
     "data": {
      "text/plain": [
       "True"
      ]
     },
     "execution_count": 18,
     "metadata": {},
     "output_type": "execute_result"
    }
   ],
   "source": [
    "number=\"123345\"\n",
    "number.isdigit()"
   ]
  },
  {
   "cell_type": "code",
   "execution_count": 19,
   "id": "ac15309b-516d-4faa-905e-90e9d20d7228",
   "metadata": {},
   "outputs": [
    {
     "data": {
      "text/plain": [
       "True"
      ]
     },
     "execution_count": 19,
     "metadata": {},
     "output_type": "execute_result"
    }
   ],
   "source": [
    "string=\"Helloworld\"\n",
    "string.isalpha()"
   ]
  },
  {
   "cell_type": "code",
   "execution_count": 1,
   "id": "befa2152-9664-4cf2-a862-ca92e8334206",
   "metadata": {},
   "outputs": [
    {
     "name": "stdout",
     "output_type": "stream",
     "text": [
      "s\n"
     ]
    }
   ],
   "source": [
    "m=\"mississippi\"\n",
    "f={}\n",
    "for i in m:\n",
    "    if i in f:\n",
    "        f[i]+=1\n",
    "    else:\n",
    "        f[i]=1\n",
    "h=max(f.keys())\n",
    "print(h)"
   ]
  },
  {
   "cell_type": "code",
   "execution_count": 2,
   "id": "f737d827-c43c-4d64-b106-3bf6c56c4ea3",
   "metadata": {},
   "outputs": [
    {
     "name": "stdout",
     "output_type": "stream",
     "text": [
      "Hello World How are you\n"
     ]
    }
   ],
   "source": [
    "import string\n",
    "s=\"Hello, World! How are you?\"\n",
    "r=s.split()\n",
    "T = [w.strip(string.punctuation) for w in r if w.strip(string.punctuation).isalnum()]\n",
    "a=\" \".join(T)\n",
    "print(a)"
   ]
  },
  {
   "cell_type": "code",
   "execution_count": 3,
   "id": "2b5e02c3-27c2-4519-b0fa-c85871e15ac5",
   "metadata": {},
   "outputs": [
    {
     "data": {
      "text/plain": [
       "True"
      ]
     },
     "execution_count": 3,
     "metadata": {},
     "output_type": "execute_result"
    }
   ],
   "source": [
    "#Check if string start with python\n",
    "a=\"python\"\n",
    "a.startswith(\"python\")"
   ]
  },
  {
   "cell_type": "code",
   "execution_count": 4,
   "id": "f1063b5a-e3ce-4308-b543-6e484cb02842",
   "metadata": {},
   "outputs": [
    {
     "name": "stdout",
     "output_type": "stream",
     "text": [
      "4\n"
     ]
    }
   ],
   "source": [
    "#Find the index of first occurrence of 'o' in 'Hello World\n",
    "a=\"Hello World\"\n",
    "f=a.index(\"o\")\n",
    "print(f)"
   ]
  },
  {
   "cell_type": "code",
   "execution_count": 5,
   "id": "da57c245-4530-459f-979c-d04997f464fc",
   "metadata": {},
   "outputs": [
    {
     "data": {
      "text/plain": [
       "'python is awesome'"
      ]
     },
     "execution_count": 5,
     "metadata": {},
     "output_type": "execute_result"
    }
   ],
   "source": [
    "l=['python', 'is', 'awesome']\n",
    "\" \".join(l)"
   ]
  },
  {
   "cell_type": "code",
   "execution_count": 6,
   "id": "a7daa2db-62ed-4df7-a548-c4864c9daaf7",
   "metadata": {},
   "outputs": [
    {
     "data": {
      "text/plain": [
       "'hElLo wOrLd'"
      ]
     },
     "execution_count": 6,
     "metadata": {},
     "output_type": "execute_result"
    }
   ],
   "source": [
    "#Convert 'hello world' to 'hElLo WoRlD'\n",
    "a=\"hello world\"\n",
    "r= ''\n",
    "s= 0\n",
    "for i in a:\n",
    "    if s % 2 == 0:\n",
    "        r+= i.lower()\n",
    "    else:\n",
    "        r+= i.upper()\n",
    "    s += 1\n",
    "r"
   ]
  },
  {
   "cell_type": "code",
   "execution_count": 7,
   "id": "b7d9ae7e-dea5-431a-9ae3-dce14d488e55",
   "metadata": {},
   "outputs": [
    {
     "name": "stdout",
     "output_type": "stream",
     "text": [
      "1\n",
      "1\n",
      "1\n"
     ]
    }
   ],
   "source": [
    "#Find all positions of 'a' in 'banana'\n",
    "s=\"banana\"\n",
    "for i in s:\n",
    "    if i==\"a\":\n",
    "        print(s.index(i))\n",
    "        continue"
   ]
  },
  {
   "cell_type": "code",
   "execution_count": 8,
   "id": "04921d0a-4753-4a89-8a31-786d28211b4c",
   "metadata": {},
   "outputs": [
    {
     "data": {
      "text/plain": [
       "'Hello World'"
      ]
     },
     "execution_count": 8,
     "metadata": {},
     "output_type": "execute_result"
    }
   ],
   "source": [
    "#Remove leading and trailing whitespace from '  Hello World  '\n",
    "s=\"  Hello World  \"\n",
    "s.strip()"
   ]
  },
  {
   "cell_type": "code",
   "execution_count": 9,
   "id": "09579270-10a3-4928-9ffe-61bdec63c87b",
   "metadata": {},
   "outputs": [
    {
     "data": {
      "text/plain": [
       "True"
      ]
     },
     "execution_count": 9,
     "metadata": {},
     "output_type": "execute_result"
    }
   ],
   "source": [
    "#Check if string ends with 'ing': 'programming'\n",
    "A=\"Programming\"\n",
    "A.endswith(\"ing\")\n"
   ]
  },
  {
   "cell_type": "code",
   "execution_count": 10,
   "id": "0ed36364-c4d5-42d6-9afb-59c67869a7cb",
   "metadata": {},
   "outputs": [
    {
     "name": "stdout",
     "output_type": "stream",
     "text": [
      "a\n"
     ]
    }
   ],
   "source": [
    "# Find the shortest word in 'Python is a programming language'\n",
    "s=\"Python is a programming language\"\n",
    "l=s.split()\n",
    "min=len(l[0])\n",
    "m=\" \"\n",
    "for i in l:\n",
    "    if len(i)<min:\n",
    "        m=i\n",
    "print(m)"
   ]
  },
  {
   "cell_type": "code",
   "execution_count": 11,
   "id": "ee26f5af-527b-4263-b6e1-927c2def48a5",
   "metadata": {},
   "outputs": [
    {
     "data": {
      "text/plain": [
       "'Hell0 World'"
      ]
     },
     "execution_count": 11,
     "metadata": {},
     "output_type": "execute_result"
    }
   ],
   "source": [
    "# Replace first occurrence of 'o' with '0' in 'Hello World'\n",
    "S=\"Hello World\"\n",
    "s=S.replace(\"o\",\"0\",1)\n",
    "s"
   ]
  },
  {
   "cell_type": "code",
   "execution_count": 14,
   "id": "8b07a9e7-9457-40bd-84e3-f7b35ab9fa4f",
   "metadata": {},
   "outputs": [
    {
     "name": "stdout",
     "output_type": "stream",
     "text": [
      "2\n"
     ]
    }
   ],
   "source": [
    "# Count words that start with 'p' in 'Python programming is powerful'\n",
    "s=\"Python programming is powerful\"\n",
    "c=0\n",
    "for i in s:\n",
    "    if i==\"p\":\n",
    "        c+=1\n",
    "print(c)"
   ]
  },
  {
   "cell_type": "code",
   "execution_count": 15,
   "id": "2ae9a022-3179-426d-a117-67bd6b071272",
   "metadata": {},
   "outputs": [
    {
     "data": {
      "text/plain": [
       "2"
      ]
     },
     "execution_count": 15,
     "metadata": {},
     "output_type": "execute_result"
    }
   ],
   "source": [
    "s=\"Python programming is powerful\"\n",
    "s.count(\"p\")\n"
   ]
  },
  {
   "cell_type": "code",
   "execution_count": 16,
   "id": "8026e135-a612-4fe4-bdc2-83cf198aa321",
   "metadata": {},
   "outputs": [
    {
     "name": "stdout",
     "output_type": "stream",
     "text": [
      "Python World Hello\n"
     ]
    }
   ],
   "source": [
    "# Reverse words in 'Hello World Python'\n",
    "s=\"Hello World Python\"\n",
    "l=s.split()\n",
    "q=l[::-1]\n",
    "a=\" \".join(q)\n",
    "print(a)"
   ]
  },
  {
   "cell_type": "code",
   "execution_count": 17,
   "id": "053dc492-649b-4c05-836e-a5be47d8c5e3",
   "metadata": {},
   "outputs": [
    {
     "data": {
      "text/plain": [
       "True"
      ]
     },
     "execution_count": 17,
     "metadata": {},
     "output_type": "execute_result"
    }
   ],
   "source": [
    "#Check if string is a valid email format: 'user@example.com'\n",
    "S=\"user@example.com\"\n",
    "S.endswith(\"@example.com\")"
   ]
  },
  {
   "cell_type": "code",
   "execution_count": 18,
   "id": "772c3a08-1b70-4445-a105-bff16cb420a6",
   "metadata": {},
   "outputs": [
    {
     "data": {
      "text/plain": [
       "'com/path'"
      ]
     },
     "execution_count": 18,
     "metadata": {},
     "output_type": "execute_result"
    }
   ],
   "source": [
    "#Extract domain from 'https://www.example.com/path'\n",
    "s=\"https://www.example.com/path\"\n",
    "s.split(\".\")[2]"
   ]
  },
  {
   "cell_type": "code",
   "execution_count": 19,
   "id": "cb06b8eb-7f3e-43b1-b018-9bdfd07a3007",
   "metadata": {},
   "outputs": [
    {
     "data": {
      "text/plain": [
       "4"
      ]
     },
     "execution_count": 19,
     "metadata": {},
     "output_type": "execute_result"
    }
   ],
   "source": [
    "#Count lines in multi-line string\n",
    "a=\"\"\"My name is Afroz\\n\n",
    "Im from madanapalle\n",
    "i have completed my btech\n",
    "in madanapalle\"\"\"\n",
    "a.count(\"\\n\")"
   ]
  },
  {
   "cell_type": "code",
   "execution_count": 20,
   "id": "124f668b-e7ab-4552-addf-4010fbb234e4",
   "metadata": {},
   "outputs": [
    {
     "data": {
      "text/plain": [
       "{'l', 'o'}"
      ]
     },
     "execution_count": 20,
     "metadata": {},
     "output_type": "execute_result"
    }
   ],
   "source": [
    "#Find common characters between 'hello' and 'world'\n",
    "s=\"hello\"\n",
    "r=\"world\"\n",
    "re=set(s)\n",
    "res=set(r)\n",
    "re.intersection(res)"
   ]
  },
  {
   "cell_type": "code",
   "execution_count": 21,
   "id": "6d099f02-1614-425c-b572-8b23cbd8fd68",
   "metadata": {},
   "outputs": [
    {
     "name": "stdout",
     "output_type": "stream",
     "text": [
      "Valid\n"
     ]
    }
   ],
   "source": [
    "#Check if string is a valid phone number: '+1-555-123-4567'\n",
    "s=\"+1-555-123-4567\"\n",
    "r= s.split('-')\n",
    "\n",
    "if (\n",
    "    len(r) == 4 and\n",
    "    r[0].startswith('+') and r[0][1:].isdigit() and\n",
    "    r[1].isdigit() and len(r[1]) == 3 and\n",
    "    r[2].isdigit() and len(r[2]) == 3 and\n",
    "    r[3].isdigit() and len(r[3]) == 4\n",
    "   ):\n",
    "    print(\"Valid\")\n",
    "else:\n",
    "    print(\"Invalid\")"
   ]
  },
  {
   "cell_type": "code",
   "execution_count": 22,
   "id": "257cc864-aa02-43bd-b06f-9b4db2939c16",
   "metadata": {},
   "outputs": [
    {
     "name": "stdout",
     "output_type": "stream",
     "text": [
      "123456789\n"
     ]
    }
   ],
   "source": [
    "#Extract numbers from 'abc123def456ghi789'\n",
    "s=\"abc123def456ghi789\"\n",
    "l=\"\"\n",
    "for i in s:\n",
    "    if i.isdigit():\n",
    "        l+=i\n",
    "print(l)"
   ]
  },
  {
   "cell_type": "code",
   "execution_count": 23,
   "id": "49a1a9a5-1f71-4c8c-bd99-efbd42fb6176",
   "metadata": {},
   "outputs": [
    {
     "name": "stdout",
     "output_type": "stream",
     "text": [
      "camelCase\n"
     ]
    }
   ],
   "source": [
    "#Convert 'snake_case' to 'camelCase'\n",
    "a=\"snake_case\"\n",
    "s=a.split(\"_\")\n",
    "d=s[0].replace(\"snake\",\"camel\")\n",
    "c=d+\"\".join(s.capitalize() for s in s[1:])\n",
    "print(c)"
   ]
  },
  {
   "cell_type": "code",
   "execution_count": 24,
   "id": "d2c5854d-c847-45a9-9c3b-563fdd23b478",
   "metadata": {},
   "outputs": [
    {
     "name": "stdout",
     "output_type": "stream",
     "text": [
      "True\n"
     ]
    }
   ],
   "source": [
    "#Check if string is a valid palindrome ignoring case: 'A man a plan a canal Panama'\n",
    "a=\"A man a plan a canal Panama\"\n",
    "b=a.replace(\" \",\"\").lower()\n",
    "c=b==b[::-1]\n",
    "print(c)"
   ]
  },
  {
   "cell_type": "code",
   "execution_count": 25,
   "id": "f3cb0942-3fcc-4950-9d40-a25f4376ffdd",
   "metadata": {},
   "outputs": [
    {
     "name": "stdout",
     "output_type": "stream",
     "text": [
      "the\n"
     ]
    }
   ],
   "source": [
    "#Find the most common word in 'the quick brown fox jumps over the lazy dog'\n",
    "a=\"the quick brown fox jumps over the lazy dog\"\n",
    "s=a.split(\" \")\n",
    "d={}\n",
    "for i in s:\n",
    "    if i in d:\n",
    "        d[i]+=i\n",
    "    else:\n",
    "        d[i]=i\n",
    "f=max(d.keys())\n",
    "print(f)"
   ]
  },
  {
   "cell_type": "code",
   "execution_count": 26,
   "id": "661d84fe-2434-46c9-af54-6abdae3e34a8",
   "metadata": {},
   "outputs": [
    {
     "name": "stdout",
     "output_type": "stream",
     "text": [
      "NAASA\n"
     ]
    }
   ],
   "source": [
    "#Generate acronym from 'National Aeronautics and Space Administration'\n",
    "s=\"National Aeronautics and Space Administration\"\n",
    "t=s.split()\n",
    "l=\"\".join(w[0].upper() for w in t)\n",
    "print(l)"
   ]
  },
  {
   "cell_type": "code",
   "execution_count": 27,
   "id": "324d98f5-aa81-4a94-9b76-ff69607582f7",
   "metadata": {},
   "outputs": [
    {
     "name": "stdout",
     "output_type": "stream",
     "text": [
      "Balanced\n"
     ]
    }
   ],
   "source": [
    "#Check if string contains balanced parentheses: '((()))'\n",
    "a=\"((()))\"\n",
    "c=0\n",
    "for i in a:\n",
    "    if i==\"(\":\n",
    "        c+=1\n",
    "    elif i==\")\":\n",
    "        c-=1\n",
    "    if c<0:\n",
    "        print(\"unbalanced\")\n",
    "        break\n",
    "if c==0:\n",
    "    print(\"Balanced\")\n",
    "else:\n",
    "    print(\"Unbalanced\")"
   ]
  },
  {
   "cell_type": "code",
   "execution_count": 28,
   "id": "2ff97f73-a96c-4fd9-9bdc-7c0ed7bc2a2f",
   "metadata": {},
   "outputs": [
    {
     "name": "stdout",
     "output_type": "stream",
     "text": [
      "True\n"
     ]
    }
   ],
   "source": [
    "#Checkif string is a valid URL: 'https://www.google.com'\n",
    "s=\"https://www.google.com\"\n",
    "print(s.endswith(\"google.com\"))"
   ]
  },
  {
   "cell_type": "code",
   "execution_count": 29,
   "id": "cb066035-96e0-47f3-bc8a-4e097b033523",
   "metadata": {},
   "outputs": [
    {
     "name": "stdout",
     "output_type": "stream",
     "text": [
      " Pythonprogrammingamazingpowerful\n"
     ]
    }
   ],
   "source": [
    "#Extract all words with length > 5 from 'Python programming is amazing and powerful'\n",
    "s=\"Python programming is amazing and powerful\"\n",
    "a=\" \"\n",
    "t=s.split()\n",
    "for i in t:\n",
    "    if len(i)>5:\n",
    "        a+=i\n",
    "print(a)"
   ]
  },
  {
   "cell_type": "code",
   "execution_count": null,
   "id": "3254f193-0baa-48d0-9993-d60e857dc25b",
   "metadata": {},
   "outputs": [],
   "source": []
  }
 ],
 "metadata": {
  "kernelspec": {
   "display_name": "Python 3 (ipykernel)",
   "language": "python",
   "name": "python3"
  },
  "language_info": {
   "codemirror_mode": {
    "name": "ipython",
    "version": 3
   },
   "file_extension": ".py",
   "mimetype": "text/x-python",
   "name": "python",
   "nbconvert_exporter": "python",
   "pygments_lexer": "ipython3",
   "version": "3.13.5"
  }
 },
 "nbformat": 4,
 "nbformat_minor": 5
}
