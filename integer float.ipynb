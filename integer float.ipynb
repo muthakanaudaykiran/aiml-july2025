{
 "cells": [
  {
   "cell_type": "markdown",
   "id": "1734e485-7d74-42d5-a28a-fbf2f53a7d6b",
   "metadata": {},
   "source": [
    "integer"
   ]
  },
  {
   "cell_type": "raw",
   "id": "eb318677-b2b5-452f-8819-10963c4f52e2",
   "metadata": {},
   "source": [
    "product = 1\n",
    "for i in range(1, 11):\n",
    "    product *= i\n",
    "print(\"the Product of first 10 natural numbers:\", product)"
   ]
  },
  {
   "cell_type": "code",
   "execution_count": 7,
   "id": "6a195d51-3eab-4062-be31-2992a3acc0de",
   "metadata": {},
   "outputs": [
    {
     "name": "stdout",
     "output_type": "stream",
     "text": [
      "Remainder 2\n"
     ]
    }
   ],
   "source": [
    "remainder = 156%7\n",
    "print(\"Remainder\", remainder)"
   ]
  },
  {
   "cell_type": "markdown",
   "id": "89c00408-265b-4077-8e27-a6d52420b8e1",
   "metadata": {},
   "source": [
    "square = 25**2\n",
    "print(\"square\", square)\n"
   ]
  },
  {
   "cell_type": "code",
   "execution_count": 12,
   "id": "5571428d-2a14-48a6-b15b-7c9f29fd2047",
   "metadata": {},
   "outputs": [
    {
     "name": "stdout",
     "output_type": "stream",
     "text": [
      "cube root of 125 4.999999999999999\n"
     ]
    }
   ],
   "source": [
    "cube_root = 125 ** (1/3)\n",
    "print(\"cube root of 125\", cube_root)"
   ]
  },
  {
   "cell_type": "code",
   "execution_count": 13,
   "id": "180f380b-0ab9-451a-9dfa-70ecb8a88459",
   "metadata": {},
   "outputs": [
    {
     "name": "stdout",
     "output_type": "stream",
     "text": [
      "Cube root of 125: 4.999999999999999\n"
     ]
    }
   ],
   "source": [
    "cube_root = 125 ** (1/3)\n",
    "print(\"Cube root of 125:\", cube_root)\n"
   ]
  },
  {
   "cell_type": "code",
   "execution_count": 14,
   "id": "ab2895d0-a59d-4a28-9564-bcc898472cbb",
   "metadata": {},
   "outputs": [
    {
     "name": "stdout",
     "output_type": "stream",
     "text": [
      "sum of digits in number 12345: 15\n"
     ]
    }
   ],
   "source": [
    "num= 12345\n",
    "sum_digits= sum(int(digit) for digit in str(num))\n",
    "print(\"sum of digits in number 12345:\", sum_digits)"
   ]
  },
  {
   "cell_type": "code",
   "execution_count": 55,
   "id": "2458a4ae-a69e-40c9-9b55-b99e4e2bd32b",
   "metadata": {},
   "outputs": [
    {
     "name": "stdout",
     "output_type": "stream",
     "text": [
      "96 is not a prime number\n"
     ]
    }
   ],
   "source": [
    "num= 96\n",
    "is_prime= True\n",
    "\n",
    "if num<2:\n",
    "    is_prime= False\n",
    "\n",
    "else:\n",
    "    for i in range(2, int(num ** 0.5) + 1):\n",
    "        if num%i == 0:\n",
    "          is_prime= False\n",
    "          break\n",
    "            \n",
    "if is_prime:\n",
    "  print(f\"{num} is prime number\")\n",
    "else:\n",
    "  print(f\"{num} is not a prime number\")"
   ]
  },
  {
   "cell_type": "code",
   "execution_count": 24,
   "id": "cfa13f48-997c-4a5d-b097-31eeaca75aa6",
   "metadata": {},
   "outputs": [
    {
     "ename": "SyntaxError",
     "evalue": "invalid syntax (4204864187.py, line 1)",
     "output_type": "error",
     "traceback": [
      "  \u001b[36mCell\u001b[39m\u001b[36m \u001b[39m\u001b[32mIn[24]\u001b[39m\u001b[32m, line 1\u001b[39m\n\u001b[31m    \u001b[39m\u001b[31mfactorial= 8!\u001b[39m\n                ^\n\u001b[31mSyntaxError\u001b[39m\u001b[31m:\u001b[39m invalid syntax\n"
     ]
    }
   ],
   "source": [
    "factorial= 8!\n",
    "print(\"factorial of 8:\", factorial)\n"
   ]
  },
  {
   "cell_type": "code",
   "execution_count": 57,
   "id": "ad387697-9a19-457f-8e29-457882b5ce2e",
   "metadata": {},
   "outputs": [
    {
     "name": "stdout",
     "output_type": "stream",
     "text": [
      "factorial of 20: 121645100408832000\n"
     ]
    }
   ],
   "source": [
    "factorial = 1\n",
    "for i in range(1,20):\n",
    "  factorial *= i\n",
    "print(\"factorial of 20:\", factorial)"
   ]
  },
  {
   "cell_type": "code",
   "execution_count": null,
   "id": "0f313904-7e65-457c-8fd4-4b4fc6f37080",
   "metadata": {},
   "outputs": [],
   "source": []
  },
  {
   "cell_type": "code",
   "execution_count": 35,
   "id": "4851e60a-3ea4-497e-87db-39f4cf2b90e6",
   "metadata": {},
   "outputs": [
    {
     "name": "stdout",
     "output_type": "stream",
     "text": [
      "the average of numbers 33.4\n"
     ]
    }
   ],
   "source": [
    "num=[15,23,31,42,56]\n",
    "avg_num = sum(num) / len(num)\n",
    "print(\"the average of numbers\",avg_num)"
   ]
  },
  {
   "cell_type": "code",
   "execution_count": 59,
   "id": "460ba00f-610f-47cb-bc99-c7885d37e146",
   "metadata": {},
   "outputs": [
    {
     "name": "stdout",
     "output_type": "stream",
     "text": [
      "gcd of 48 and 36: 12\n"
     ]
    }
   ],
   "source": [
    "import math\n",
    "gcd=math.gcd(48,36)\n",
    "print(\"gcd of 48 and 36:\", gcd)\n"
   ]
  },
  {
   "cell_type": "code",
   "execution_count": null,
   "id": "314ea349-0b42-4303-ad6a-c4746b41f29b",
   "metadata": {},
   "outputs": [],
   "source": []
  },
  {
   "cell_type": "code",
   "execution_count": null,
   "id": "2b2c1610-eaf8-4e30-87f3-96bcebe4c12f",
   "metadata": {},
   "outputs": [],
   "source": []
  },
  {
   "cell_type": "code",
   "execution_count": 38,
   "id": "24b25a5d-59c8-4110-b300-35ce7a64ca5c",
   "metadata": {},
   "outputs": [
    {
     "name": "stdout",
     "output_type": "stream",
     "text": [
      "gcd of 48 and 36: 12\n"
     ]
    }
   ],
   "source": [
    "import math\n",
    "gcd=math.gcd(48,36)\n",
    "print(\"gcd of 48 and 36:\", gcd)\n"
   ]
  },
  {
   "cell_type": "code",
   "execution_count": 2,
   "id": "2cc2aab5-bf73-4dc0-9720-500754dcca16",
   "metadata": {},
   "outputs": [
    {
     "name": "stdout",
     "output_type": "stream",
     "text": [
      "sum of first 20 odd numbers: 400\n"
     ]
    }
   ],
   "source": [
    "sum_odds= sum(2*i + 1 for i in range(20))\n",
    "print(\"sum of first 20 odd numbers:\", sum_odds)"
   ]
  },
  {
   "cell_type": "code",
   "execution_count": null,
   "id": "31228dc7-37f0-4478-ae21-3273412deb3c",
   "metadata": {},
   "outputs": [],
   "source": []
  },
  {
   "cell_type": "code",
   "execution_count": null,
   "id": "02f72921-f084-498c-81e6-27748c75456f",
   "metadata": {},
   "outputs": [],
   "source": []
  },
  {
   "cell_type": "markdown",
   "id": "3a926faa-2cfa-4a8e-a8e2-0ab51db33564",
   "metadata": {},
   "source": [
    "float"
   ]
  },
  {
   "cell_type": "markdown",
   "id": "db1f55bd-304e-4e5f-9980-5caea4104d28",
   "metadata": {},
   "source": [
    "\n"
   ]
  },
  {
   "cell_type": "code",
   "execution_count": 4,
   "id": "fe1a50cc-a19d-4778-81b4-7b77e0f807e2",
   "metadata": {},
   "outputs": [
    {
     "name": "stdout",
     "output_type": "stream",
     "text": [
      "average: 2.01325\n"
     ]
    }
   ],
   "source": [
    "num=[3.14,2.718,1.618,0.577]\n",
    "avg=sum(num) / len(num)\n",
    "print(\"average:\", avg)\n"
   ]
  },
  {
   "cell_type": "code",
   "execution_count": 43,
   "id": "462e9e8c-d989-49d5-8042-5c04ffbfbac2",
   "metadata": {},
   "outputs": [
    {
     "name": "stdout",
     "output_type": "stream",
     "text": [
      "celsius: 37.0\n"
     ]
    }
   ],
   "source": [
    "F=98.6\n",
    "C=(F-32) *5/9\n",
    "print(\"celsius:\", C)\n"
   ]
  },
  {
   "cell_type": "code",
   "execution_count": 44,
   "id": "d1db19a4-9fab-41aa-9508-ce3432f27c2f",
   "metadata": {},
   "outputs": [
    {
     "name": "stdout",
     "output_type": "stream",
     "text": [
      "Compound Interest: 174.24137499999983\n",
      "Total Amount: 1174.2413749999998\n"
     ]
    }
   ],
   "source": [
    "P = 1000\n",
    "r = 5.5 / 100\n",
    "t = 3\n",
    "\n",
    "A = P * (1 + r) ** t\n",
    "compound_interest = A - P\n",
    "\n",
    "print(\"Compound Interest:\", compound_interest)\n",
    "print(\"Total Amount:\", A)\n"
   ]
  },
  {
   "cell_type": "code",
   "execution_count": 45,
   "id": "8ebf22a4-3c9b-416a-b240-b00faa4e341a",
   "metadata": {},
   "outputs": [
    {
     "name": "stdout",
     "output_type": "stream",
     "text": [
      "Hypotenuse: 5.4671747731346585\n"
     ]
    }
   ],
   "source": [
    "import math\n",
    "\n",
    "a = 3.5\n",
    "b = 4.2\n",
    "\n",
    "hypotenuse = math.sqrt(a**2 + b**2)\n",
    "print(\"Hypotenuse:\", hypotenuse)\n"
   ]
  },
  {
   "cell_type": "code",
   "execution_count": 46,
   "id": "61ae80ba-e120-48ad-8490-afcaf9e90256",
   "metadata": {},
   "outputs": [
    {
     "name": "stdout",
     "output_type": "stream",
     "text": [
      "Volume of sphere: 1987.798769261791\n"
     ]
    }
   ],
   "source": [
    "import math\n",
    "\n",
    "r = 7.8\n",
    "volume = (4/3) * math.pi * r**3\n",
    "print(\"Volume of sphere:\", volume)\n"
   ]
  },
  {
   "cell_type": "code",
   "execution_count": 50,
   "id": "2b7514df-25c0-4183-b927-d347c518d7bb",
   "metadata": {},
   "outputs": [
    {
     "name": "stdout",
     "output_type": "stream",
     "text": [
      "3.142\n"
     ]
    }
   ],
   "source": [
    "num = 3.14159\n",
    "rounded_value = round(num, 3)\n",
    "print(rounded_value)\n"
   ]
  },
  {
   "cell_type": "code",
   "execution_count": null,
   "id": "8d5bb435-bc9e-4593-a828-826a621340fa",
   "metadata": {},
   "outputs": [],
   "source": []
  },
  {
   "cell_type": "code",
   "execution_count": 48,
   "id": "6b1ffeb1-88db-48f1-8005-1286e8bbc7ea",
   "metadata": {},
   "outputs": [
    {
     "name": "stdout",
     "output_type": "stream",
     "text": [
      "Percentage: 67.16417910447761\n"
     ]
    }
   ],
   "source": [
    "part = 45\n",
    "total = 67\n",
    "percentage = (part / total) * 100\n",
    "print(\"Percentage:\", percentage)\n"
   ]
  },
  {
   "cell_type": "code",
   "execution_count": 49,
   "id": "c3ebc536-196d-46e1-817a-24fb843c906e",
   "metadata": {},
   "outputs": [
    {
     "name": "stdout",
     "output_type": "stream",
     "text": [
      "Square root: 4.843139477652899\n"
     ]
    }
   ],
   "source": [
    "import math\n",
    "\n",
    "num = 23.456\n",
    "square_root = math.sqrt(num)\n",
    "print(\"Square root:\", square_root)\n"
   ]
  },
  {
   "cell_type": "code",
   "execution_count": 51,
   "id": "9d15333b-35df-47fd-aefc-10c3e77697c1",
   "metadata": {},
   "outputs": [
    {
     "name": "stdout",
     "output_type": "stream",
     "text": [
      "Simple Interest: 406.25\n"
     ]
    }
   ],
   "source": [
    "P = 2500\n",
    "R = 6.5\n",
    "T = 2.5\n",
    "\n",
    "SI = (P * R * T) / 100\n",
    "print(\"Simple Interest:\", SI)\n"
   ]
  },
  {
   "cell_type": "code",
   "execution_count": 52,
   "id": "88c6aa1b-9f0a-46ec-82c3-462bcf4d69c1",
   "metadata": {},
   "outputs": [
    {
     "name": "stdout",
     "output_type": "stream",
     "text": [
      "Radians: 0.7976154681614086\n"
     ]
    }
   ],
   "source": [
    "import math\n",
    "\n",
    "degrees = 45.7\n",
    "radians = math.radians(degrees)\n",
    "print(\"Radians:\", radians)\n"
   ]
  },
  {
   "cell_type": "code",
   "execution_count": 53,
   "id": "b1feb487-1970-4ce2-ae59-2a84c8e041c8",
   "metadata": {},
   "outputs": [
    {
     "name": "stdout",
     "output_type": "stream",
     "text": [
      "gnimmargorP nohtyP\n"
     ]
    }
   ],
   "source": [
    "text = \"Python Programming\"\n",
    "reversed_text = text[::-1]\n",
    "print(reversed_text)\n"
   ]
  },
  {
   "cell_type": "code",
   "execution_count": null,
   "id": "3b996ebd-97ab-445e-bd87-42d68bf74c4f",
   "metadata": {},
   "outputs": [],
   "source": []
  },
  {
   "cell_type": "code",
   "execution_count": null,
   "id": "81cbb977-7a5e-4d29-b9f7-5c54ad9ffe69",
   "metadata": {},
   "outputs": [],
   "source": []
  }
 ],
 "metadata": {
  "kernelspec": {
   "display_name": "Python 3 (ipykernel)",
   "language": "python",
   "name": "python3"
  },
  "language_info": {
   "codemirror_mode": {
    "name": "ipython",
    "version": 3
   },
   "file_extension": ".py",
   "mimetype": "text/x-python",
   "name": "python",
   "nbconvert_exporter": "python",
   "pygments_lexer": "ipython3",
   "version": "3.13.5"
  }
 },
 "nbformat": 4,
 "nbformat_minor": 5
}
