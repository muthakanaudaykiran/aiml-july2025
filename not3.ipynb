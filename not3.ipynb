{
 "cells": [
  {
   "cell_type": "code",
   "execution_count": 1,
   "id": "3172bc9b-263f-4bca-a3af-50fcfa096f47",
   "metadata": {},
   "outputs": [
    {
     "name": "stdout",
     "output_type": "stream",
     "text": [
      "Data science\n"
     ]
    }
   ],
   "source": [
    "x=\"data science\"\n",
    "print(x.capitalize()) "
   ]
  },
  {
   "cell_type": "code",
   "execution_count": 3,
   "id": "94d2d247-f29e-4c5f-ad64-87046426d04a",
   "metadata": {},
   "outputs": [
    {
     "name": "stdout",
     "output_type": "stream",
     "text": [
      "data science\n"
     ]
    }
   ],
   "source": [
    "x=\"DATA science\"\n",
    "print(x.lower()) "
   ]
  },
  {
   "cell_type": "code",
   "execution_count": 4,
   "id": "a118bdbb-2f53-491d-b7ef-1bc262e71b36",
   "metadata": {},
   "outputs": [
    {
     "name": "stdout",
     "output_type": "stream",
     "text": [
      "data SCIENCE\n"
     ]
    }
   ],
   "source": [
    "x=\"DATA science\"\n",
    "print(x.swapcase())"
   ]
  },
  {
   "cell_type": "code",
   "execution_count": 6,
   "id": "8f130c64-3c4e-4bc8-a062-0749b87c5dbb",
   "metadata": {},
   "outputs": [
    {
     "name": "stdout",
     "output_type": "stream",
     "text": [
      "DATA SCIENCE\n"
     ]
    }
   ],
   "source": [
    "x=\"DATA science\"\n",
    "print(x.upper())"
   ]
  },
  {
   "cell_type": "code",
   "execution_count": 23,
   "id": "de3f4daa-1443-4119-99d6-267d515b4424",
   "metadata": {},
   "outputs": [
    {
     "name": "stdout",
     "output_type": "stream",
     "text": [
      "Data Science\n"
     ]
    }
   ],
   "source": [
    "x=\"DATA science\"\n",
    "print(x.title()) "
   ]
  },
  {
   "cell_type": "code",
   "execution_count": 42,
   "id": "ce91011e-18c1-4359-850d-b8b1acd93444",
   "metadata": {},
   "outputs": [
    {
     "data": {
      "text/plain": [
       "'DATAsciencei'"
      ]
     },
     "execution_count": 42,
     "metadata": {},
     "output_type": "execute_result"
    }
   ],
   "source": [
    "x=\"           DATA science      i \"\n",
    "x.replace(\" \",\"\")"
   ]
  },
  {
   "cell_type": "markdown",
   "id": "b17c2a53-6702-438d-a9fa-d1d5ca76d60f",
   "metadata": {},
   "source": [
    "## x.replace(\" \",\"\")"
   ]
  },
  {
   "cell_type": "code",
   "execution_count": 63,
   "id": "76f28569-1cca-42a9-bdd4-d85c7e8f30d8",
   "metadata": {},
   "outputs": [
    {
     "name": "stdout",
     "output_type": "stream",
     "text": [
      "DATA \t\t*8 science\n"
     ]
    }
   ],
   "source": [
    "x=\"DATA \\t\\t*8 science\"\n",
    "print(x)"
   ]
  },
  {
   "cell_type": "code",
   "execution_count": null,
   "id": "2213f4b6-2ff5-43b5-a794-56fc47b3f0df",
   "metadata": {},
   "outputs": [],
   "source": [
    " "
   ]
  },
  {
   "cell_type": "code",
   "execution_count": 22,
   "id": "3203c624-926b-475f-8f83-02c83a2a2bf7",
   "metadata": {},
   "outputs": [
    {
     "name": "stdout",
     "output_type": "stream",
     "text": [
      "DATA science----=\n"
     ]
    }
   ],
   "source": [
    "x=\"------------DATA science----=----\"\n",
    "print(x.strip('-data'))"
   ]
  },
  {
   "cell_type": "code",
   "execution_count": 32,
   "id": "2567233c-e110-42b7-b5c7-0de31d9c2c8f",
   "metadata": {},
   "outputs": [
    {
     "name": "stdout",
     "output_type": "stream",
     "text": [
      "---------------DATA science-------------       i\n"
     ]
    }
   ],
   "source": [
    "x=\"---------------DATA science-------------       i\"\n",
    "print(x.rstrip(' ')) "
   ]
  },
  {
   "cell_type": "code",
   "execution_count": 37,
   "id": "368497cb-23c7-4b57-ae1d-20e5c3fbdb4a",
   "metadata": {},
   "outputs": [
    {
     "name": "stdout",
     "output_type": "stream",
     "text": [
      "DATA science----------------------------------------------------------------------------------------\n"
     ]
    }
   ],
   "source": [
    "x=\"DATA science\"\n",
    "print(x.ljust(100,'-')) "
   ]
  },
  {
   "cell_type": "code",
   "execution_count": 38,
   "id": "552b7eb6-a273-4149-869d-a7704d3f8049",
   "metadata": {},
   "outputs": [
    {
     "name": "stdout",
     "output_type": "stream",
     "text": [
      "----------------------------------------------------------------------------------------DATA science\n"
     ]
    }
   ],
   "source": [
    "x=\"DATA science\"\n",
    "print(x.rjust(100,'-'))"
   ]
  },
  {
   "cell_type": "code",
   "execution_count": 45,
   "id": "397da0d6-a6b3-4a63-a2dd-a8666e1cb3bf",
   "metadata": {},
   "outputs": [
    {
     "name": "stdout",
     "output_type": "stream",
     "text": [
      "HELLO WORLD\n",
      "False\n",
      "False\n",
      "False\n"
     ]
    }
   ],
   "source": [
    "x=\"Hello world\"\n",
    "print(x.upper()) \n",
    "print(x.isupper()) \n",
    "print(x.islower())\n",
    "print(x.islower())"
   ]
  },
  {
   "cell_type": "code",
   "execution_count": 46,
   "id": "95887a1f-0baa-48ae-978f-6999645c800a",
   "metadata": {},
   "outputs": [
    {
     "name": "stdout",
     "output_type": "stream",
     "text": [
      "True\n",
      "False\n"
     ]
    }
   ],
   "source": [
    "filename = \"document.pdf\"\n",
    "print(filename.endswith(\".pdf\"))\n",
    "print(filename.endswith(\".txt\"))\n"
   ]
  },
  {
   "cell_type": "code",
   "execution_count": 47,
   "id": "3ecf2fa0-0e31-46ea-887c-00ec4ad33a47",
   "metadata": {},
   "outputs": [
    {
     "name": "stdout",
     "output_type": "stream",
     "text": [
      "True\n",
      "False\n"
     ]
    }
   ],
   "source": [
    "print(\"Python\".isalpha()) \n",
    "print(\"Python3\".isalpha())"
   ]
  },
  {
   "cell_type": "code",
   "execution_count": 49,
   "id": "9d65842e-cc14-4ec7-9316-d7de66ad90e9",
   "metadata": {},
   "outputs": [
    {
     "name": "stdout",
     "output_type": "stream",
     "text": [
      "True\n",
      "False\n"
     ]
    }
   ],
   "source": [
    "print(\"12345\".isdigit()) \n",
    "print(\"123.45\".isdecimal())"
   ]
  },
  {
   "cell_type": "code",
   "execution_count": 51,
   "id": "81d4aec6-08ee-4b98-9399-50bc158c9363",
   "metadata": {},
   "outputs": [
    {
     "data": {
      "text/plain": [
       "['d', 't', '']"
      ]
     },
     "execution_count": 51,
     "metadata": {},
     "output_type": "execute_result"
    }
   ],
   "source": [
    "x=\"data\"\n",
    "x.split('a')"
   ]
  },
  {
   "cell_type": "code",
   "execution_count": 60,
   "id": "d6d01077-528e-40dc-8e4c-a9efa6520526",
   "metadata": {},
   "outputs": [
    {
     "data": {
      "text/plain": [
       "False"
      ]
     },
     "execution_count": 60,
     "metadata": {},
     "output_type": "execute_result"
    }
   ],
   "source": [
    "\"123.2\".isdecimal()"
   ]
  },
  {
   "cell_type": "code",
   "execution_count": 58,
   "id": "f1fcc1cc-243f-4228-a6e3-922999f21f6f",
   "metadata": {},
   "outputs": [],
   "source": [
    "x=\"1211\""
   ]
  },
  {
   "cell_type": "code",
   "execution_count": 59,
   "id": "b22eb2c6-81f3-4aba-8a70-77c7a10f061b",
   "metadata": {},
   "outputs": [
    {
     "data": {
      "text/plain": [
       "-1"
      ]
     },
     "execution_count": 59,
     "metadata": {},
     "output_type": "execute_result"
    }
   ],
   "source": [
    "x.find(\".\")"
   ]
  }
 ],
 "metadata": {
  "kernelspec": {
   "display_name": "Python 3 (ipykernel)",
   "language": "python",
   "name": "python3"
  },
  "language_info": {
   "codemirror_mode": {
    "name": "ipython",
    "version": 3
   },
   "file_extension": ".py",
   "mimetype": "text/x-python",
   "name": "python",
   "nbconvert_exporter": "python",
   "pygments_lexer": "ipython3",
   "version": "3.13.5"
  }
 },
 "nbformat": 4,
 "nbformat_minor": 5
}
