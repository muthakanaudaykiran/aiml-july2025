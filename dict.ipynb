{
 "cells": [
  {
   "cell_type": "code",
   "execution_count": 1,
   "id": "f8c9e9ec-dd0d-4034-80ad-53152cc00911",
   "metadata": {},
   "outputs": [
    {
     "data": {
      "text/plain": [
       "{'raj': 20, 'manoj': 35, 'charlie': 25}"
      ]
     },
     "execution_count": 1,
     "metadata": {},
     "output_type": "execute_result"
    }
   ],
   "source": [
    "# Question 1: Create a dictionary of student names and their ages\n",
    "student_dict={'raj':20,'manoj':35,'charlie':25}\n",
    "student_dict"
   ]
  },
  {
   "cell_type": "code",
   "execution_count": 3,
   "id": "226d50e3-4570-4a78-8f1d-c9fd852a6d24",
   "metadata": {},
   "outputs": [
    {
     "data": {
      "text/plain": [
       "{'a': 1, 'b': 2, 'c': 3, 'd': 4}"
      ]
     },
     "execution_count": 3,
     "metadata": {},
     "output_type": "execute_result"
    }
   ],
   "source": [
    "# Question 2: Add a new key-value pair to dictionary {'a': 1, 'b': 2, 'c': 3}\n",
    "a= {'a': 1, 'b': 2, 'c': 3}\n",
    "a['d']=4\n",
    "a"
   ]
  },
  {
   "cell_type": "code",
   "execution_count": 4,
   "id": "54728e98-de02-4cef-b9c4-78a680da294a",
   "metadata": {},
   "outputs": [
    {
     "name": "stdout",
     "output_type": "stream",
     "text": [
      "dict_values([3, 2, 1])\n"
     ]
    }
   ],
   "source": [
    "# Question 4: Get all values from dictionary {'python': 3, 'java': 2, 'c++': 1}\n",
    "my_dict={'python': 3, 'java': 2, 'c++': 1}\n",
    "values=my_dict.values()\n",
    "print(values)"
   ]
  },
  {
   "cell_type": "code",
   "execution_count": 5,
   "id": "59701f49-5016-489c-9606-7e937137e173",
   "metadata": {},
   "outputs": [
    {
     "name": "stdout",
     "output_type": "stream",
     "text": [
      " yes age is exixts\n"
     ]
    }
   ],
   "source": [
    "# Question 5: Check if key 'age' exists in {'name': 'Alice', 'age': 30, 'city': 'London'}\n",
    "sent={'name': 'Alice', 'age': 30, 'city': 'London'}\n",
    "if 'age' in sent:\n",
    "    print(\" yes age is exixts\")"
   ]
  },
  {
   "cell_type": "code",
   "execution_count": null,
   "id": "c36143f7-b2c5-4764-9474-0a834bf1cece",
   "metadata": {},
   "outputs": [],
   "source": []
  },
  {
   "cell_type": "code",
   "execution_count": 6,
   "id": "54b06b4f-3d8f-41a1-8c76-865b9c943e16",
   "metadata": {},
   "outputs": [
    {
     "name": "stdout",
     "output_type": "stream",
     "text": [
      "dict_keys(['name', 'age', 'city'])\n"
     ]
    }
   ],
   "source": [
    "# Question 3: Get all keys from dictionary {'name': 'John', 'age': 25, 'city': 'New York'}\n",
    "my_dict={'name': 'John', 'age': 25, 'city': 'New York'}\n",
    "keys=my_dict.keys()\n",
    "print(keys)"
   ]
  },
  {
   "cell_type": "code",
   "execution_count": 7,
   "id": "3f28fe9a-91e2-42f5-94bd-c0d742409433",
   "metadata": {},
   "outputs": [
    {
     "name": "stdout",
     "output_type": "stream",
     "text": [
      "{'a': 1, 'b': 2, 'c': 4}\n"
     ]
    }
   ],
   "source": [
    "# Question 6: Remove key 'temp' from {'a': 1, 'b': 2, 'temp': 3, 'c': 4}\n",
    "sent={'a': 1, 'b': 2, 'temp': 3, 'c': 4}\n",
    "del sent['temp']\n",
    "print(sent)"
   ]
  },
  {
   "cell_type": "code",
   "execution_count": 8,
   "id": "5ebcc770-29bc-4ba2-9232-4d3ad9444e1d",
   "metadata": {},
   "outputs": [
    {
     "name": "stdout",
     "output_type": "stream",
     "text": [
      "255\n"
     ]
    }
   ],
   "source": [
    "# Question 7: Find the sum of all values in {'math': 85, 'science': 92, 'english': 78}\n",
    "marks = {'math': 85, 'science': 92, 'english': 78}\n",
    "total = sum(marks.values())\n",
    "print(total)"
   ]
  },
  {
   "cell_type": "code",
   "execution_count": 9,
   "id": "1f79f4b8-2da4-4be1-b42f-4796b18536fd",
   "metadata": {},
   "outputs": [
    {
     "name": "stdout",
     "output_type": "stream",
     "text": [
      "{1, 4, 9, 16, 25}\n"
     ]
    }
   ],
   "source": [
    "# Question 8: Create a dictionary with squares of numbers 1 to 5\n",
    "number={x**2 for x in range(1,6)}\n",
    "print(number)"
   ]
  },
  {
   "cell_type": "code",
   "execution_count": 10,
   "id": "edd61bd4-837f-4165-bb33-4e422a8c6320",
   "metadata": {},
   "outputs": [
    {
     "name": "stdout",
     "output_type": "stream",
     "text": [
      "{'h': 1, 'e': 1, 'l': 2, 'o': 1}\n"
     ]
    }
   ],
   "source": [
    "# Question 9: Count frequency of each character in string \"hello\"\n",
    "name=\"hello\"\n",
    "freq={}\n",
    "for char in name:\n",
    "    if char in freq:\n",
    "        freq[char]+=1\n",
    "    else:\n",
    "        freq[char]=1\n",
    "print(freq)"
   ]
  },
  {
   "cell_type": "code",
   "execution_count": 11,
   "id": "9607c707-69b3-4da2-a26f-ffe6812049bb",
   "metadata": {},
   "outputs": [
    {
     "data": {
      "text/plain": [
       "{'a': 1, 'b': 2, 'c': 3, 'd': 4}"
      ]
     },
     "execution_count": 11,
     "metadata": {},
     "output_type": "execute_result"
    }
   ],
   "source": [
    "# Question 10: Merge two dictionaries {'a': 1, 'b': 2} and {'c': 3, 'd': 4}\n",
    "a={'a': 1, 'b': 2}\n",
    "b={'c': 3, 'd': 4}\n",
    "a.update(b)\n",
    "a\n"
   ]
  },
  {
   "cell_type": "code",
   "execution_count": 12,
   "id": "42cd08b7-ec8c-48ca-8493-2749365085c5",
   "metadata": {},
   "outputs": [
    {
     "data": {
      "text/plain": [
       "{'person': {'name': 'Alice', 'age': 25}}"
      ]
     },
     "execution_count": 12,
     "metadata": {},
     "output_type": "execute_result"
    }
   ],
   "source": [
    "# Question 11: Create a nested dictionary: {'person': {'name': 'Alice', 'age': 25}}\n",
    "a={'person': {'name': 'Alice', 'age': 25}}\n",
    "a"
   ]
  },
  {
   "cell_type": "code",
   "execution_count": 13,
   "id": "c9f6eaf9-aac3-4019-bd03-fe6d90e4c818",
   "metadata": {},
   "outputs": [
    {
     "data": {
      "text/plain": [
       "'Alice'"
      ]
     },
     "execution_count": 13,
     "metadata": {},
     "output_type": "execute_result"
    }
   ],
   "source": [
    "# Question 12: Access nested value 'name' from {'person': {'name': 'Alice', 'age': 25}}\n",
    "data= {'person': {'name': 'Alice', 'age': 25}}\n",
    "name=data['person']['name']\n",
    "name"
   ]
  },
  {
   "cell_type": "code",
   "execution_count": 14,
   "id": "8da81e8e-2375-4182-b01b-95ad1f8df432",
   "metadata": {},
   "outputs": [
    {
     "name": "stdout",
     "output_type": "stream",
     "text": [
      "{'fruits': ['apple', 'banana'], 'colors': ['red', 'blue']}\n"
     ]
    }
   ],
   "source": [
    "# Question 13: Create a dictionary with list values: {'fruits': ['apple', 'banana'], 'colors': ['red', 'blue']}\n",
    "data= {'fruits': ['apple', 'banana'], 'colors': ['red', 'blue']}\n",
    "print(data)"
   ]
  },
  {
   "cell_type": "code",
   "execution_count": 15,
   "id": "f20c237b-87e0-44c8-8690-bf5c162b807e",
   "metadata": {},
   "outputs": [
    {
     "name": "stdout",
     "output_type": "stream",
     "text": [
      "{'fruits': ['apple', 'banana', 'orange'], 'colors': ['red', 'blue']}\n"
     ]
    }
   ],
   "source": [
    "# Question 14: Add 'orange' to the 'fruits' list in nested dictionary\n",
    "data= {'fruits': ['apple', 'banana'], 'colors': ['red', 'blue']}\n",
    "data['fruits'].append('orange')\n",
    "print(data)"
   ]
  },
  {
   "cell_type": "code",
   "execution_count": 16,
   "id": "a4c8d2f1-4240-47d0-a9f8-3d585d7df81c",
   "metadata": {},
   "outputs": [
    {
     "data": {
      "text/plain": [
       "{'coordinates': (10, 20), 'rgb': (255, 0, 0)}"
      ]
     },
     "execution_count": 16,
     "metadata": {},
     "output_type": "execute_result"
    }
   ],
   "source": [
    "# Question 15: Create a dictionary with tuple values: {'coordinates': (10, 20), 'rgb': (255, 0, 0)}\n",
    "value= {'coordinates': (10, 20), 'rgb': (255, 0, 0)}\n",
    "value"
   ]
  },
  {
   "cell_type": "code",
   "execution_count": 17,
   "id": "401f1ca5-b4d1-42d7-ae37-363b4492da47",
   "metadata": {},
   "outputs": [
    {
     "name": "stdout",
     "output_type": "stream",
     "text": [
      "10\n"
     ]
    }
   ],
   "source": [
    "# Question 16: Extract first coordinate from nested tuple\n",
    "value= {'coordinates': (10, 20), 'rgb': (255, 0, 0)}\n",
    "first_coordinate=value['coordinates'][0]\n",
    "print(first_coordinate)"
   ]
  },
  {
   "cell_type": "code",
   "execution_count": 18,
   "id": "05ba2df7-cbca-4548-bc67-1190bde6a99a",
   "metadata": {},
   "outputs": [
    {
     "data": {
      "text/plain": [
       "{'vowels': {'a', 'e', 'i'}, 'consonants': {'b', 'c', 'd'}}"
      ]
     },
     "execution_count": 18,
     "metadata": {},
     "output_type": "execute_result"
    }
   ],
   "source": [
    "# Question 17: Create a dictionary with set values: {'vowels': {'a', 'e', 'i'}, 'consonants': {'b', 'c', 'd'}}\n",
    "a= {'vowels': {'a', 'e', 'i'}, 'consonants': {'b', 'c', 'd'}}\n",
    "a"
   ]
  },
  {
   "cell_type": "code",
   "execution_count": 19,
   "id": "e91b304d-aea0-46df-8236-b14850c5c985",
   "metadata": {},
   "outputs": [
    {
     "data": {
      "text/plain": [
       "{'vowels': {'a', 'e', 'i', 'o'}, 'consonants': {'b', 'c', 'd'}}"
      ]
     },
     "execution_count": 19,
     "metadata": {},
     "output_type": "execute_result"
    }
   ],
   "source": [
    "# Question 18: Add 'o' to vowels set in nested dictionary\n",
    "a= {'vowels': {'a', 'e', 'i'}, 'consonants': {'b', 'c', 'd'}}\n",
    "a['vowels'].add('o')\n",
    "a"
   ]
  },
  {
   "cell_type": "code",
   "execution_count": 20,
   "id": "1be435c8-20f3-4329-9791-78dca5c889f8",
   "metadata": {},
   "outputs": [
    {
     "data": {
      "text/plain": [
       "{'company': {'department': {'employee': {'name': 'John', 'id': 123}}}}"
      ]
     },
     "execution_count": 20,
     "metadata": {},
     "output_type": "execute_result"
    }
   ],
   "source": [
    "# Question 19: Create a 3-level nested dictionary: {'company': {'department': {'employee': {'name': 'John', 'id': 123}}}}\n",
    "a={'company': {'department': {'employee': {'name': 'John', 'id': 123}}}}\n",
    "a\n"
   ]
  },
  {
   "cell_type": "code",
   "execution_count": 21,
   "id": "37802409-0ca3-4744-ac0b-2b75639ce99f",
   "metadata": {},
   "outputs": [
    {
     "name": "stdout",
     "output_type": "stream",
     "text": [
      "John\n"
     ]
    }
   ],
   "source": [
    "# Question 20: Access employee name from 3-level nested dictionary\n",
    "a={'company': {'department': {'employee': {'name': 'John', 'id': 123}}}}\n",
    "employee_name=a['company']['department']['employee']['name']\n",
    "print(employee_name)"
   ]
  },
  {
   "cell_type": "code",
   "execution_count": 22,
   "id": "d5aa3ac2-bcb3-4e43-b0ec-b310db8f1f6c",
   "metadata": {},
   "outputs": [
    {
     "data": {
      "text/plain": [
       "{'int': 42, 'float': 3.14, 'str': 'hello', 'bool': True}"
      ]
     },
     "execution_count": 22,
     "metadata": {},
     "output_type": "execute_result"
    }
   ],
   "source": [
    "# Question 21: Create a dictionary with mixed data types: {'int': 42, 'float': 3.14, 'str': 'hello', 'bool': True}\n",
    "a={'int': 42, 'float': 3.14, 'str': 'hello', 'bool': True}\n",
    "a"
   ]
  },
  {
   "cell_type": "code",
   "execution_count": 23,
   "id": "08335d24-b5c1-4726-bf9e-b2f9781023da",
   "metadata": {},
   "outputs": [
    {
     "name": "stdout",
     "output_type": "stream",
     "text": [
      "int <class 'int'>\n",
      "float <class 'float'>\n",
      "str <class 'str'>\n",
      "bool <class 'bool'>\n"
     ]
    }
   ],
   "source": [
    "# Question 22: Check data type of each value in mixed dictionary\n",
    "a={'int': 42, 'float': 3.14, 'str': 'hello', 'bool': True}\n",
    "for k in a:\n",
    "    print(k,type(a[k]))"
   ]
  },
  {
   "cell_type": "code",
   "execution_count": 24,
   "id": "f0abdc1b-7b1b-4444-8b2f-216c7b4c59bf",
   "metadata": {},
   "outputs": [
    {
     "data": {
      "text/plain": [
       "{'len': <function len(obj, /)>, 'str': str, 'int': int}"
      ]
     },
     "execution_count": 24,
     "metadata": {},
     "output_type": "execute_result"
    }
   ],
   "source": [
    "# Question 23: Create a dictionary with function values: {'len': len, 'str': str, 'int': int}\n",
    "a={'len': len, 'str': str, 'int': int}\n",
    "a"
   ]
  },
  {
   "cell_type": "code",
   "execution_count": 25,
   "id": "53eacf6d-e1ff-4c91-bb33-3737e8d839e8",
   "metadata": {},
   "outputs": [
    {
     "name": "stdout",
     "output_type": "stream",
     "text": [
      "{'len': 3, 'str': '123', 'int': 123}\n"
     ]
    }
   ],
   "source": [
    "# Question 24: Apply each function to \"123\" using dictionary\n",
    "a={'len': len, 'str': str, 'int': int}\n",
    "values = \"123\"\n",
    "result={\n",
    "        'len': len(values),\n",
    "        'str': str(values), \n",
    "        'int': int(values)\n",
    "       }\n",
    "print(result)"
   ]
  },
  {
   "cell_type": "code",
   "execution_count": 26,
   "id": "0e87fa81-7429-4b50-89e5-bdbca07ae5b5",
   "metadata": {},
   "outputs": [
    {
     "data": {
      "text/plain": [
       "{'double': <function __main__.<lambda>(x)>,\n",
       " 'square': <function __main__.<lambda>(x)>}"
      ]
     },
     "execution_count": 26,
     "metadata": {},
     "output_type": "execute_result"
    }
   ],
   "source": [
    "# Question 25: Create a dictionary with lambda functions: {'double': lambda x: x*2, 'square': lambda x: x**2}\n",
    "a={'double': lambda x: x*2, 'square': lambda x: x**2}\n",
    "a"
   ]
  },
  {
   "cell_type": "code",
   "execution_count": 27,
   "id": "a7fa540f-81bd-4d8e-a001-39ba1b93d2f5",
   "metadata": {},
   "outputs": [
    {
     "name": "stdout",
     "output_type": "stream",
     "text": [
      "10\n",
      "25\n"
     ]
    }
   ],
   "source": [
    "#Question 26: Apply each lambda function to 5\n",
    "a={'double': lambda x: x*2, 'square': lambda x: x**2}\n",
    "x=5\n",
    "print(a['double'](x))\n",
    "print(a['square'](x))"
   ]
  },
  {
   "cell_type": "code",
   "execution_count": 28,
   "id": "7b94b2bf-1a48-43df-a22d-1445b2801d88",
   "metadata": {},
   "outputs": [
    {
     "name": "stdout",
     "output_type": "stream",
     "text": [
      "{'list': <class 'list'>, 'dict': <class 'dict'>, 'set': <class 'set'>}\n"
     ]
    }
   ],
   "source": [
    "# Question 27: Create a dictionary with class values: {'list': list, 'dict': dict, 'set': set}\n",
    "class_dict={'list': list, 'dict': dict, 'set': set}\n",
    "print(class_dict)"
   ]
  },
  {
   "cell_type": "code",
   "execution_count": 30,
   "id": "bb41807e-51f7-4b3e-b9ba-462126da1d42",
   "metadata": {},
   "outputs": [
    {
     "name": "stdout",
     "output_type": "stream",
     "text": [
      "[1, 2, 3]\n",
      "{'name': 'alice', 'age': 25}\n",
      "{1, 2, 4, 23}\n"
     ]
    }
   ],
   "source": [
    "# Question 28: Create instances using class dictionary\n",
    "class_dict={'list': list, 'dict': dict, 'set': set}\n",
    "my_list=class_dict['list']([1,2,3])\n",
    "my_dict=class_dict['dict'](name='alice',age=25)\n",
    "my_set=class_dict['set']([1,2,23,4])\n",
    "print(my_list)\n",
    "print(my_dict)\n",
    "print(my_set)\n"
   ]
  },
  {
   "cell_type": "code",
   "execution_count": null,
   "id": "aa49e0a7-db18-4df7-9af3-1b9ac6e03af4",
   "metadata": {},
   "outputs": [],
   "source": [
    "    "
   ]
  },
  {
   "cell_type": "code",
   "execution_count": 31,
   "id": "9b0e1636-f2ac-4ad3-b259-8468e141d8eb",
   "metadata": {},
   "outputs": [
    {
     "data": {
      "text/plain": [
       "{'a': None, 'b': None, 'c': None}"
      ]
     },
     "execution_count": 31,
     "metadata": {},
     "output_type": "execute_result"
    }
   ],
   "source": [
    "# Question 29: Create a dictionary with None values: {'a': None, 'b': None, 'c': None}\n",
    "a={'a': None, 'b': None, 'c': None}\n",
    "a"
   ]
  },
  {
   "cell_type": "code",
   "execution_count": null,
   "id": "f32fc691-caf6-439b-929e-cb6b37449a6c",
   "metadata": {},
   "outputs": [],
   "source": []
  }
 ],
 "metadata": {
  "kernelspec": {
   "display_name": "Python 3 (ipykernel)",
   "language": "python",
   "name": "python3"
  },
  "language_info": {
   "codemirror_mode": {
    "name": "ipython",
    "version": 3
   },
   "file_extension": ".py",
   "mimetype": "text/x-python",
   "name": "python",
   "nbconvert_exporter": "python",
   "pygments_lexer": "ipython3",
   "version": "3.13.5"
  }
 },
 "nbformat": 4,
 "nbformat_minor": 5
}
