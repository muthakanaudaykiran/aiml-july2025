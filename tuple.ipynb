{
 "cells": [
  {
   "cell_type": "code",
   "execution_count": 1,
   "id": "33f1634a-04cb-42aa-855b-939399ec937c",
   "metadata": {},
   "outputs": [
    {
     "name": "stdout",
     "output_type": "stream",
     "text": [
      "(1, 2, 3, 4, 5, 6, 7, 8, 9, 10)\n"
     ]
    }
   ],
   "source": [
    "# Question 1: Create a tuple of first 10 natural numbers\n",
    "a=tuple(range(1,11))\n",
    "print(a)"
   ]
  },
  {
   "cell_type": "code",
   "execution_count": 1,
   "id": "a2a252cd-6af4-4545-a002-56fb9f4f72bd",
   "metadata": {},
   "outputs": [
    {
     "name": "stdout",
     "output_type": "stream",
     "text": [
      "10\n"
     ]
    }
   ],
   "source": [
    "# Question 2: Find the length of tuple (1, 2, 3, 4, 5, 6, 7, 8, 9, 10)\n",
    "a=(1, 2, 3, 4, 5, 6, 7, 8, 9, 10)\n",
    "print(len(a))"
   ]
  },
  {
   "cell_type": "code",
   "execution_count": 2,
   "id": "5b1fd191-8110-40f2-83f3-80fad5165bac",
   "metadata": {},
   "outputs": [
    {
     "name": "stdout",
     "output_type": "stream",
     "text": [
      "c\n"
     ]
    }
   ],
   "source": [
    "# Question 3: Access the 3rd element from tuple ('a', 'b', 'c', 'd', 'e')\n",
    "a=('a', 'b', 'c', 'd', 'e')\n",
    "print(a[2])\n"
   ]
  },
  {
   "cell_type": "code",
   "execution_count": 3,
   "id": "3d318cf3-f1f1-414c-baba-7de6a788d244",
   "metadata": {},
   "outputs": [
    {
     "name": "stdout",
     "output_type": "stream",
     "text": [
      "89\n"
     ]
    }
   ],
   "source": [
    "# Question 4: Find the maximum value in tuple (23, 45, 12, 67, 34, 89, 56)\n",
    "a=(23, 45, 12, 67, 34, 89, 56)\n",
    "print(max(a))"
   ]
  },
  {
   "cell_type": "code",
   "execution_count": 4,
   "id": "97f32ad7-dc3f-4117-ab69-206371431e7f",
   "metadata": {},
   "outputs": [
    {
     "name": "stdout",
     "output_type": "stream",
     "text": [
      "4\n"
     ]
    }
   ],
   "source": [
    "# Question 5: Count how many times 5 appears in (1, 5, 2, 5, 3, 5, 4, 5, 6)\n",
    "a= (1, 5, 2, 5, 3, 5, 4, 5, 6)\n",
    "count_5=a.count(5)\n",
    "print(count_5)"
   ]
  },
  {
   "cell_type": "code",
   "execution_count": 5,
   "id": "48d33277-bcea-4309-abf4-754dd54fce46",
   "metadata": {},
   "outputs": [
    {
     "name": "stdout",
     "output_type": "stream",
     "text": [
      "(10, 2.3, 'swathi', 'true')\n"
     ]
    }
   ],
   "source": [
    "# Question 6: Create a tuple of mixed data types (integer, float, string, boolean)\n",
    "a=(10,2.3,'swathi',\"true\")\n",
    "print(a)"
   ]
  },
  {
   "cell_type": "code",
   "execution_count": 6,
   "id": "41a2f4b8-f79e-4aea-8112-42ad2de78108",
   "metadata": {},
   "outputs": [
    {
     "name": "stdout",
     "output_type": "stream",
     "text": [
      "1\n"
     ]
    }
   ],
   "source": [
    "# Question 7: Find the index of element 'python' in ('java', 'python', 'c++', 'javascript')\n",
    "a=('java', 'python', 'c++', 'javascript')\n",
    "print(a.index('python'))"
   ]
  },
  {
   "cell_type": "code",
   "execution_count": 7,
   "id": "218d64ae-19a8-4bc3-93a7-7b61b2842039",
   "metadata": {},
   "outputs": [
    {
     "name": "stdout",
     "output_type": "stream",
     "text": [
      "it is not present\n"
     ]
    }
   ],
   "source": [
    "# Question 8: Check if 25 exists in tuple (10, 20, 30, 40, 50)\n",
    "a=(10, 20, 30, 40, 50)\n",
    "if 25 in a:\n",
    "    print(\"25 is present\")\n",
    "else:\n",
    "  print(\"it is not present\")"
   ]
  },
  {
   "cell_type": "code",
   "execution_count": 8,
   "id": "3ec0dbcd-b17d-4d33-b7c3-eda2bff23e53",
   "metadata": {},
   "outputs": [
    {
     "name": "stdout",
     "output_type": "stream",
     "text": [
      "(2, 4, 6, 8, 10)\n"
     ]
    }
   ],
   "source": [
    "# Question 9: Create a tuple of first 5 even numbers\n",
    "a=tuple(i for i in range(2,12,2))\n",
    "print(a)"
   ]
  },
  {
   "cell_type": "code",
   "execution_count": 9,
   "id": "30e28334-e8b5-489c-981b-9f6ee52d8c67",
   "metadata": {},
   "outputs": [
    {
     "name": "stdout",
     "output_type": "stream",
     "text": [
      "40.833333333333336\n"
     ]
    }
   ],
   "source": [
    "# Question 10: Find the average of numbers in tuple (15, 23, 31, 42, 56, 78)\n",
    "num=(15, 23, 31, 42, 56, 78)\n",
    "avg=sum(num)/len(num)\n",
    "print(avg)"
   ]
  },
  {
   "cell_type": "code",
   "execution_count": null,
   "id": "478c4795-b4de-4d7c-828a-15e866d22856",
   "metadata": {},
   "outputs": [],
   "source": []
  }
 ],
 "metadata": {
  "kernelspec": {
   "display_name": "Python 3 (ipykernel)",
   "language": "python",
   "name": "python3"
  },
  "language_info": {
   "codemirror_mode": {
    "name": "ipython",
    "version": 3
   },
   "file_extension": ".py",
   "mimetype": "text/x-python",
   "name": "python",
   "nbconvert_exporter": "python",
   "pygments_lexer": "ipython3",
   "version": "3.13.5"
  }
 },
 "nbformat": 4,
 "nbformat_minor": 5
}
