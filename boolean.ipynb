{
 "cells": [
  {
   "cell_type": "code",
   "execution_count": 1,
   "id": "70ab546e-c264-406e-b636-56461cd863c0",
   "metadata": {},
   "outputs": [
    {
     "name": "stdout",
     "output_type": "stream",
     "text": [
      "It is satisfied\n"
     ]
    }
   ],
   "source": [
    "# Question 1: Check if 25 is greater than 20 and less than 30\n",
    "if 25 > 20 < 30:\n",
    "     print(\"It is satisfied\")\n",
    "else:\n",
    "    print(\"It is not satisfied\")"
   ]
  },
  {
   "cell_type": "code",
   "execution_count": 2,
   "id": "ee034dd9-82de-40a6-a904-ff18c25cf4ea",
   "metadata": {},
   "outputs": [
    {
     "name": "stdout",
     "output_type": "stream",
     "text": [
      "equal\n"
     ]
    }
   ],
   "source": [
    "# Question 2: Check if string \"python\" is equal to \"Python\" (case sensitive)\n",
    "\n",
    "a = \"python\"\n",
    "b = \"python\"\n",
    "if a==b:\n",
    "    print(\"equal\")\n",
    "else:\n",
    "    print(\"not equal\")"
   ]
  },
  {
   "cell_type": "code",
   "execution_count": 3,
   "id": "36516df0-b156-4022-b031-e54b9ff7ea51",
   "metadata": {},
   "outputs": [
    {
     "name": "stdout",
     "output_type": "stream",
     "text": [
      "It is divisible\n"
     ]
    }
   ],
   "source": [
    "# Question 3: Check if 15 is divisible by both 3 and 5\n",
    "\n",
    "a = 15\n",
    "b = 3\n",
    "c = 5\n",
    "\n",
    "if a%b==0 and a%c==0:\n",
    "    print(\"It is divisible\")\n",
    "else:\n",
    "    print(\"It is not divisible\")"
   ]
  },
  {
   "cell_type": "code",
   "execution_count": 4,
   "id": "35113e4a-54be-4a6a-859b-c1e53be58f33",
   "metadata": {},
   "outputs": [
    {
     "name": "stdout",
     "output_type": "stream",
     "text": [
      "not equal\n"
     ]
    }
   ],
   "source": [
    "# Question 4: Check if 7 is not equal to 8\n",
    "\n",
    "a = 7\n",
    "b = 8\n",
    "if a==b:\n",
    "    print(\"equal\")\n",
    "else:\n",
    "    print(\"not equal\")\n"
   ]
  },
  {
   "cell_type": "code",
   "execution_count": null,
   "id": "8d7e0e3e-58ed-4c9f-a7f8-84ebe10514e1",
   "metadata": {},
   "outputs": [],
   "source": []
  }
 ],
 "metadata": {
  "kernelspec": {
   "display_name": "Python 3 (ipykernel)",
   "language": "python",
   "name": "python3"
  },
  "language_info": {
   "codemirror_mode": {
    "name": "ipython",
    "version": 3
   },
   "file_extension": ".py",
   "mimetype": "text/x-python",
   "name": "python",
   "nbconvert_exporter": "python",
   "pygments_lexer": "ipython3",
   "version": "3.13.5"
  }
 },
 "nbformat": 4,
 "nbformat_minor": 5
}
