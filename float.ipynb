{
 "cells": [
  {
   "cell_type": "code",
   "execution_count": 1,
   "id": "de1881f7-e7a9-46b2-a7f1-ca26ad5dd941",
   "metadata": {},
   "outputs": [
    {
     "name": "stdout",
     "output_type": "stream",
     "text": [
      "SOLVED EXAMPLE:\n",
      "Calculate the area of a circle with radius 5.5\n",
      "Radius: 5.5\n",
      "Area: 95.03\n",
      "--------------------------------------------------\n"
     ]
    }
   ],
   "source": [
    "# Question: Calculate the area of a circle with radius 5.5\n",
    "print(\"SOLVED EXAMPLE:\")\n",
    "print(\"Calculate the area of a circle with radius 5.5\")\n",
    "import math\n",
    "radius = 5.5\n",
    "area = math.pi * radius ** 2\n",
    "print(f\"Radius: {radius}\")\n",
    "print(f\"Area: {area:.2f}\")\n",
    "print(\"-\" * 50) "
   ]
  },
  {
   "cell_type": "code",
   "execution_count": 3,
   "id": "e9db4916-4dcd-4cda-9cc8-12dd49b67243",
   "metadata": {},
   "outputs": [
    {
     "name": "stdout",
     "output_type": "stream",
     "text": [
      "2.01325\n"
     ]
    }
   ],
   "source": [
    "# Question 1: Calculate the average of 3.14, 2.718, 1.618, 0.577\n",
    "average=(3.14+ 2.718+ 1.618+0.577)/4\n",
    "print(average)"
   ]
  },
  {
   "cell_type": "code",
   "execution_count": 4,
   "id": "91287c0f-da28-4bec-b177-ef534676a3db",
   "metadata": {},
   "outputs": [
    {
     "name": "stdout",
     "output_type": "stream",
     "text": [
      "209.48\n"
     ]
    }
   ],
   "source": [
    "# Question 2: Convert 98.6 Fahrenheit to Celsius (F = C * 9/5 + 32)\n",
    "celsius=98.6\n",
    "Fahrenheit=celsius*9/5+32\n",
    "print(Fahrenheit)"
   ]
  },
  {
   "cell_type": "code",
   "execution_count": 6,
   "id": "fecbee58-0a17-4c5e-a200-dbe32c78c421",
   "metadata": {},
   "outputs": [
    {
     "name": "stdout",
     "output_type": "stream",
     "text": [
      "compound interest 174.24137499999983\n"
     ]
    }
   ],
   "source": [
    "# Question 3: Calculate the compound interest on $1000 at 5.5% for 3 years\n",
    "p=1000\n",
    "r=0.055\n",
    "t=3\n",
    "n=1\n",
    "a=p*(1+r/n)**(n*t)\n",
    "ci=a-p\n",
    "print(\"compound interest\",ci)\n"
   ]
  },
  {
   "cell_type": "code",
   "execution_count": 8,
   "id": "b2a7e431-9d35-4b07-a663-a060565ce523",
   "metadata": {},
   "outputs": [
    {
     "name": "stdout",
     "output_type": "stream",
     "text": [
      "5.4671747731346585\n"
     ]
    }
   ],
   "source": [
    "a = 3.5\n",
    "b = 4.2\n",
    "c = math.sqrt(a**2 + b**2)\n",
    "print(c)"
   ]
  },
  {
   "cell_type": "code",
   "execution_count": 10,
   "id": "750b71fa-1a81-4c83-901c-352197ed1471",
   "metadata": {},
   "outputs": [
    {
     "data": {
      "text/plain": [
       "5.4671747731346585"
      ]
     },
     "execution_count": 10,
     "metadata": {},
     "output_type": "execute_result"
    }
   ],
   "source": [
    "((a**2+b**2)**0.5)"
   ]
  },
  {
   "cell_type": "code",
   "execution_count": null,
   "id": "5e0bb42e-268e-4a2c-8dd2-7adc8b8c2007",
   "metadata": {},
   "outputs": [],
   "source": [
    "     "
   ]
  },
  {
   "cell_type": "code",
   "execution_count": 9,
   "id": "818a9949-37bb-4b77-b902-2e61874182e3",
   "metadata": {},
   "outputs": [
    {
     "name": "stdout",
     "output_type": "stream",
     "text": [
      "5.4671747731346585\n"
     ]
    }
   ],
   "source": [
    "# Question 4: Find the hypotenuse of a right triangle with sides 3.5 and 4.2\n",
    "a = 3.5\n",
    "b = 4.2\n",
    "c = ((a**2 + b**2) ** (1 / 2))  # sqrt(a square + b square)\n",
    "print(c)"
   ]
  },
  {
   "cell_type": "code",
   "execution_count": 11,
   "id": "3ec3d042-e49d-4bcb-aa93-e9983f5f9bbb",
   "metadata": {},
   "outputs": [
    {
     "name": "stdout",
     "output_type": "stream",
     "text": [
      "1987.798769261791\n"
     ]
    }
   ],
   "source": [
    "# Question 5: Calculate the volume of a sphere with radius 7.8\n",
    "r = 7.8 \n",
    "vol = (4/3) * math.pi * (r ** 3) # 4/3 - pi*r cube\n",
    "print(vol)"
   ]
  },
  {
   "cell_type": "code",
   "execution_count": 12,
   "id": "4b2696df-c5f2-4763-aedd-cd90c8c0411d",
   "metadata": {},
   "outputs": [
    {
     "name": "stdout",
     "output_type": "stream",
     "text": [
      "3.142\n"
     ]
    }
   ],
   "source": [
    "# Question 6: Round 3.14159 to 3 decimal places\n",
    "r = 3.14159\n",
    "print(round(r,3))"
   ]
  },
  {
   "cell_type": "code",
   "execution_count": 13,
   "id": "0ee80e70-372f-4fe5-8cdc-fe8cbb60fbcd",
   "metadata": {},
   "outputs": [
    {
     "data": {
      "text/plain": [
       "67.16417910447761"
      ]
     },
     "execution_count": 13,
     "metadata": {},
     "output_type": "execute_result"
    }
   ],
   "source": [
    "# Question 7: Calculate the percentage: 45 out of 67\n",
    "45/67 * 100"
   ]
  },
  {
   "cell_type": "code",
   "execution_count": 14,
   "id": "59e9635d-4ae9-43bd-a15a-2d5aa99efae4",
   "metadata": {},
   "outputs": [
    {
     "data": {
      "text/plain": [
       "4.843139477652899"
      ]
     },
     "execution_count": 14,
     "metadata": {},
     "output_type": "execute_result"
    }
   ],
   "source": [
    "# Question 8: Find the square root of 23.456\n",
    "math.sqrt(23.456)"
   ]
  },
  {
   "cell_type": "code",
   "execution_count": null,
   "id": "6c4ca98d-692f-4084-9f06-ef24fd0fa94a",
   "metadata": {},
   "outputs": [],
   "source": []
  }
 ],
 "metadata": {
  "kernelspec": {
   "display_name": "Python 3 (ipykernel)",
   "language": "python",
   "name": "python3"
  },
  "language_info": {
   "codemirror_mode": {
    "name": "ipython",
    "version": 3
   },
   "file_extension": ".py",
   "mimetype": "text/x-python",
   "name": "python",
   "nbconvert_exporter": "python",
   "pygments_lexer": "ipython3",
   "version": "3.13.5"
  }
 },
 "nbformat": 4,
 "nbformat_minor": 5
}
