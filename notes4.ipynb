{
 "cells": [
  {
   "cell_type": "code",
   "execution_count": 17,
   "id": "ab0fa50c-6ef2-4ac0-8fa9-698e92411b8b",
   "metadata": {},
   "outputs": [
    {
     "name": "stdout",
     "output_type": "stream",
     "text": [
      "[1, 2, 3, 4]\n"
     ]
    }
   ],
   "source": [
    "# Appending a number\n",
    "num = [1, 2, 3]\n",
    "num.append(4)\n",
    "print(num)"
   ]
  },
  {
   "cell_type": "code",
   "execution_count": 18,
   "id": "8f00d5a9-8710-4a52-9e55-7a95644bd5d8",
   "metadata": {},
   "outputs": [
    {
     "name": "stdout",
     "output_type": "stream",
     "text": [
      "['apple', 'banana', 'fruits']\n"
     ]
    }
   ],
   "source": [
    "# Appending a string\n",
    "fruit = ['apple', 'banana']\n",
    "fruit.append('fruits')\n",
    "print(fruit)"
   ]
  },
  {
   "cell_type": "code",
   "execution_count": 16,
   "id": "796076b2-ac02-4d81-88ef-73781eb19df2",
   "metadata": {},
   "outputs": [
    {
     "name": "stdout",
     "output_type": "stream",
     "text": [
      "['h', 'e', 'l', 'l', 'o', ' ', 'w', 'o', 'r', 'l', 'd']\n"
     ]
    }
   ],
   "source": [
    "# Extending with a string (adds each character)\n",
    "word = ['h', 'e', 'l', 'l', 'o']\n",
    "word.extend(' world')\n",
    "print(word)"
   ]
  },
  {
   "cell_type": "code",
   "execution_count": 19,
   "id": "3129b239-a128-45db-ac17-b43bc354b5bc",
   "metadata": {},
   "outputs": [
    {
     "name": "stdout",
     "output_type": "stream",
     "text": [
      "[1, 2, [3, 4]]\n"
     ]
    }
   ],
   "source": [
    "# Appending another list\n",
    "it = [1, 2]\n",
    "it.append([3, 4])\n",
    "print(it)"
   ]
  },
  {
   "cell_type": "code",
   "execution_count": 20,
   "id": "3edb7666-e80c-454c-981a-19ed5fda0bbc",
   "metadata": {},
   "outputs": [
    {
     "name": "stdout",
     "output_type": "stream",
     "text": [
      "['Buy groceries', 'Clean the house']\n"
     ]
    }
   ],
   "source": [
    "# Starting with an empty list\n",
    "tasks = []\n",
    "tasks.append('Buy groceries')\n",
    "tasks.append('Clean the house')\n",
    "print(tasks)"
   ]
  },
  {
   "cell_type": "code",
   "execution_count": 21,
   "id": "66a4fda5-e27d-4065-9e74-608577effa9b",
   "metadata": {},
   "outputs": [
    {
     "name": "stdout",
     "output_type": "stream",
     "text": [
      "[1, 2, 3, 4, 5, 6]\n"
     ]
    }
   ],
   "source": [
    "# Extending with another list\n",
    "list_a = [1, 2, 3]\n",
    "list_b = [4, 5, 6]\n",
    "list_a.extend(list_b)\n",
    "print(list_a)"
   ]
  },
  {
   "cell_type": "code",
   "execution_count": 22,
   "id": "46c08d0a-5bf6-4eca-92eb-d98b32fef1f6",
   "metadata": {},
   "outputs": [
    {
     "name": "stdout",
     "output_type": "stream",
     "text": [
      "['red', 'green', 'blue', 'yellow']\n"
     ]
    }
   ],
   "source": [
    "# Extending with a tuple\n",
    "colors = ['red', 'green']\n",
    "colors.extend(('blue', 'yellow'))\n",
    "print(colors)"
   ]
  },
  {
   "cell_type": "code",
   "execution_count": 23,
   "id": "35d3f847-a7de-4ba8-94eb-110e29aaa90c",
   "metadata": {},
   "outputs": [
    {
     "name": "stdout",
     "output_type": "stream",
     "text": [
      "['a', 'b', 'c', 'd']\n"
     ]
    }
   ],
   "source": [
    "# Inserting at the beginning\n",
    "letters = ['b', 'c', 'd']\n",
    "letters.insert(0, 'a')\n",
    "print(letters) "
   ]
  },
  {
   "cell_type": "code",
   "execution_count": 24,
   "id": "fa33f587-fbf2-40b4-8a30-f7b88946a62c",
   "metadata": {},
   "outputs": [
    {
     "name": "stdout",
     "output_type": "stream",
     "text": [
      "[10, 20, 30, 40, 50]\n"
     ]
    }
   ],
   "source": [
    "# Inserting in the middle\n",
    "numbers = [10, 20, 40, 50]\n",
    "numbers.insert(2, 30)\n",
    "print(numbers)"
   ]
  },
  {
   "cell_type": "code",
   "execution_count": 25,
   "id": "2df975f7-73e6-4ff9-ac5b-98ff59a519e6",
   "metadata": {},
   "outputs": [
    {
     "name": "stdout",
     "output_type": "stream",
     "text": [
      "['cat', 'dog', 'horse']\n"
     ]
    }
   ],
   "source": [
    "animals = ['cat', 'dog']\n",
    "animals.insert(5, 'horse')\n",
    "print(animals) "
   ]
  },
  {
   "cell_type": "code",
   "execution_count": 26,
   "id": "e2670ddd-4204-488b-ac9c-b6f3d61af3b0",
   "metadata": {},
   "outputs": [
    {
     "name": "stdout",
     "output_type": "stream",
     "text": [
      "['apple', 'cherry', 'banana']\n"
     ]
    }
   ],
   "source": [
    "# Removing an item\n",
    "fruits = ['apple', 'banana', 'cherry', 'banana']\n",
    "fruits.remove('banana')\n",
    "print(fruits)"
   ]
  },
  {
   "cell_type": "code",
   "execution_count": 27,
   "id": "812be8b0-30f5-40aa-a65a-fa854dcd699e",
   "metadata": {},
   "outputs": [
    {
     "name": "stdout",
     "output_type": "stream",
     "text": [
      "[90, 95, 85]\n"
     ]
    }
   ],
   "source": [
    "# Removing a number\n",
    "scores = [90, 85, 95, 85]\n",
    "scores.remove(85)\n",
    "print(scores)"
   ]
  },
  {
   "cell_type": "code",
   "execution_count": 28,
   "id": "a9b15788-1661-40f5-9abe-473ab1fd7211",
   "metadata": {},
   "outputs": [
    {
     "name": "stdout",
     "output_type": "stream",
     "text": [
      "Popped item: 40\n",
      "List after pop: [10, 20, 30]\n"
     ]
    }
   ],
   "source": [
    "# Popping the last item (default)\n",
    "stack = [10, 20, 30, 40]\n",
    "last_item = stack.pop()\n",
    "print(f\"Popped item: {last_item}\") \n",
    "print(f\"List after pop: {stack}\")"
   ]
  },
  {
   "cell_type": "code",
   "execution_count": 29,
   "id": "cb3bc11b-8711-4756-8e3c-aff38cea4f19",
   "metadata": {},
   "outputs": [
    {
     "name": "stdout",
     "output_type": "stream",
     "text": [
      "Popped item: first\n",
      "List after pop: ['second', 'third']\n"
     ]
    }
   ],
   "source": [
    "# Popping an item by index\n",
    "queue = ['first', 'second', 'third']\n",
    "first_item = queue.pop(0)\n",
    "print(f\"Popped item: {first_item}\")\n",
    "print(f\"List after pop: {queue}\")"
   ]
  },
  {
   "cell_type": "code",
   "execution_count": 30,
   "id": "8114138d-2baf-4c77-b5f2-16553549ff6d",
   "metadata": {},
   "outputs": [
    {
     "name": "stdout",
     "output_type": "stream",
     "text": [
      "[1, 3, 4, 5, 8]\n"
     ]
    }
   ],
   "source": [
    "# Sorting numbers in ascending order\n",
    "numbers = [4, 1, 8, 3, 5]\n",
    "numbers.sort()\n",
    "print(numbers)"
   ]
  },
  {
   "cell_type": "code",
   "execution_count": 31,
   "id": "89ac02ca-ce50-44dc-8461-f5319aae0a09",
   "metadata": {},
   "outputs": [
    {
     "name": "stdout",
     "output_type": "stream",
     "text": [
      "['Alice', 'Bob', 'Charlie', 'David']\n"
     ]
    }
   ],
   "source": [
    "# Sorting strings alphabetically\n",
    "names = ['David', 'Charlie', 'Alice', 'Bob']\n",
    "names.sort()\n",
    "print(names)"
   ]
  },
  {
   "cell_type": "code",
   "execution_count": 32,
   "id": "2d4af9f9-2649-4e45-8281-561d18dc8782",
   "metadata": {},
   "outputs": [
    {
     "name": "stdout",
     "output_type": "stream",
     "text": [
      "[100, 95, 88, 72]\n"
     ]
    }
   ],
   "source": [
    "# Sorting in descending order\n",
    "scores = [88, 95, 72, 100]\n",
    "scores.sort(reverse=True)\n",
    "print(scores) "
   ]
  },
  {
   "cell_type": "code",
   "execution_count": 33,
   "id": "7e354b55-bad1-44b8-829b-31798192a9e9",
   "metadata": {},
   "outputs": [
    {
     "name": "stdout",
     "output_type": "stream",
     "text": [
      "[5, 4, 3, 2, 1]\n"
     ]
    }
   ],
   "source": [
    "# Reversing a list of numbers\n",
    "nums = [1, 2, 3, 4, 5]\n",
    "nums.reverse()\n",
    "print(nums) "
   ]
  },
  {
   "cell_type": "code",
   "execution_count": 34,
   "id": "36272a46-add8-40fa-83eb-d80f1249d068",
   "metadata": {},
   "outputs": [
    {
     "name": "stdout",
     "output_type": "stream",
     "text": [
      "['third', 'second', 'first']\n"
     ]
    }
   ],
   "source": [
    "# Reversing a list of strings\n",
    "words = ['first', 'second', 'third']\n",
    "words.reverse()\n",
    "print(words)"
   ]
  },
  {
   "cell_type": "code",
   "execution_count": 35,
   "id": "b4ab8f3f-03e1-4a2d-8c2c-69f8f287ffc4",
   "metadata": {},
   "outputs": [
    {
     "name": "stdout",
     "output_type": "stream",
     "text": [
      "1\n"
     ]
    }
   ],
   "source": [
    "# inding the index of an item\n",
    "letters = ['a', 'b', 'c', 'd', 'b']\n",
    "print(letters.index('b'))"
   ]
  },
  {
   "cell_type": "code",
   "execution_count": 36,
   "id": "526ddb08-7ef1-47de-ad32-77435325210d",
   "metadata": {},
   "outputs": [
    {
     "name": "stdout",
     "output_type": "stream",
     "text": [
      "3\n"
     ]
    }
   ],
   "source": [
    "print(letters.index('d')) "
   ]
  },
  {
   "cell_type": "code",
   "execution_count": 37,
   "id": "39b84217-ac0d-4c45-bc25-8781efdffa75",
   "metadata": {},
   "outputs": [
    {
     "name": "stdout",
     "output_type": "stream",
     "text": [
      "3\n"
     ]
    }
   ],
   "source": [
    "# Counting occurrences of a number\n",
    "grades = [100, 90, 80, 90, 70, 90]\n",
    "print(grades.count(90))"
   ]
  },
  {
   "cell_type": "code",
   "execution_count": 38,
   "id": "dbce1bf7-3079-4c24-852f-367fa720ef58",
   "metadata": {},
   "outputs": [
    {
     "name": "stdout",
     "output_type": "stream",
     "text": [
      "3\n"
     ]
    }
   ],
   "source": [
    "names = ['Alice', 'Bob', 'Alice', 'Charlie', 'Alice']\n",
    "print(names.count('Alice'))"
   ]
  },
  {
   "cell_type": "code",
   "execution_count": 41,
   "id": "83d7d42a-f3d9-4ee5-ac76-3e04a524586c",
   "metadata": {},
   "outputs": [
    {
     "name": "stdout",
     "output_type": "stream",
     "text": [
      "[]\n"
     ]
    }
   ],
   "source": [
    "# Clearing a list\n",
    "my_list = [1, 2, 3, 4, 5]\n",
    "my_list.clear()\n",
    "print(my_list)"
   ]
  },
  {
   "cell_type": "code",
   "execution_count": 42,
   "id": "0dc00d49-0351-45f2-b79e-a1ac43169218",
   "metadata": {},
   "outputs": [
    {
     "name": "stdout",
     "output_type": "stream",
     "text": [
      "{'red', 'green', 'blue'}\n"
     ]
    }
   ],
   "source": [
    "# Sets \n",
    "# Adding a new item\n",
    "colors = {'red', 'green'}\n",
    "colors.add('blue')\n",
    "print(colors)"
   ]
  },
  {
   "cell_type": "code",
   "execution_count": 43,
   "id": "87928ba3-3e82-4dec-ab0f-2eda82766497",
   "metadata": {},
   "outputs": [
    {
     "name": "stdout",
     "output_type": "stream",
     "text": [
      "{1, 2, 3}\n"
     ]
    }
   ],
   "source": [
    "# Adding an item that already exists\n",
    "numbers = {1, 2, 3}\n",
    "numbers.add(2)\n",
    "print(numbers)"
   ]
  },
  {
   "cell_type": "code",
   "execution_count": 45,
   "id": "a5b82ca2-dac1-4555-b563-a83f5af22879",
   "metadata": {},
   "outputs": [
    {
     "name": "stdout",
     "output_type": "stream",
     "text": [
      "{1, 2, 3, 4, 5}\n"
     ]
    }
   ],
   "source": [
    "# Updating with a list (duplicates are ignored)\n",
    "s = {1, 2, 3}\n",
    "s.update([3, 4, 5])\n",
    "print(s)"
   ]
  },
  {
   "cell_type": "code",
   "execution_count": null,
   "id": "271240b8-fb43-4527-a2f7-1d92fd8bd8d7",
   "metadata": {},
   "outputs": [],
   "source": []
  },
  {
   "cell_type": "code",
   "execution_count": 47,
   "id": "5c953c9a-18e3-4b44-bc75-bb2c1a74bb1b",
   "metadata": {},
   "outputs": [
    {
     "name": "stdout",
     "output_type": "stream",
     "text": [
      "{'b', 'a', 'd', 'c'}\n"
     ]
    }
   ],
   "source": [
    "# Updating with another set\n",
    "set_a = {'a', 'b'}\n",
    "set_b = {'b', 'c', 'd'}\n",
    "set_a.update(set_b)\n",
    "print(set_a) "
   ]
  },
  {
   "cell_type": "code",
   "execution_count": 49,
   "id": "f5ff477a-a683-44e0-8dff-eadad9299cc2",
   "metadata": {},
   "outputs": [
    {
     "name": "stdout",
     "output_type": "stream",
     "text": [
      "{'python', 'c++'}\n"
     ]
    }
   ],
   "source": [
    "# Discarding an existing item\n",
    "tech = {'python', 'java', 'c++'}\n",
    "tech.discard('java')\n",
    "print(tech)"
   ]
  },
  {
   "cell_type": "code",
   "execution_count": 50,
   "id": "0f975bc1-790b-48a6-bcf3-10d0bf478531",
   "metadata": {},
   "outputs": [
    {
     "name": "stdout",
     "output_type": "stream",
     "text": [
      "{'python', 'c++'}\n"
     ]
    }
   ],
   "source": [
    "tech.discard('ruby')\n",
    "print(tech) "
   ]
  },
  {
   "cell_type": "code",
   "execution_count": 48,
   "id": "bc8f6994-a5f3-4c54-a380-f56445019d18",
   "metadata": {},
   "outputs": [
    {
     "name": "stdout",
     "output_type": "stream",
     "text": [
      "{'apple', 'cherry'}\n"
     ]
    }
   ],
   "source": [
    "# Removing an existing item\n",
    "fruits = {'apple', 'banana', 'cherry'}\n",
    "fruits.remove('banana')\n",
    "print(fruits)"
   ]
  },
  {
   "cell_type": "code",
   "execution_count": 51,
   "id": "598ecb9d-ec34-4ca0-ada1-fe951ac012ee",
   "metadata": {},
   "outputs": [
    {
     "name": "stdout",
     "output_type": "stream",
     "text": [
      "{1, 2, 3, 4, 5}\n"
     ]
    }
   ],
   "source": [
    "# Using the union() method\n",
    "a = {1, 2, 3}\n",
    "b = {3, 4, 5}\n",
    "c = a.union(b)\n",
    "print(c)"
   ]
  },
  {
   "cell_type": "code",
   "execution_count": 52,
   "id": "88ec5b82-96b5-4d2d-9936-f7f574f6cbf8",
   "metadata": {},
   "outputs": [
    {
     "name": "stdout",
     "output_type": "stream",
     "text": [
      "{1, 2, 3, 4, 5}\n"
     ]
    }
   ],
   "source": [
    "# Using the | operator\n",
    "d = a | b\n",
    "print(d)"
   ]
  },
  {
   "cell_type": "code",
   "execution_count": 53,
   "id": "ac417f77-77a7-424e-bb87-5d439bddc6b4",
   "metadata": {},
   "outputs": [
    {
     "name": "stdout",
     "output_type": "stream",
     "text": [
      "{'banana', 'apple'}\n"
     ]
    }
   ],
   "source": [
    "# Using the intersection() method\n",
    "a = {'apple', 'banana', 'cherry'}\n",
    "b = {'banana', 'durian', 'apple'}\n",
    "c = a.intersection(b)\n",
    "print(c)"
   ]
  },
  {
   "cell_type": "code",
   "execution_count": 54,
   "id": "8d95ce00-b38f-4e9f-87b1-4736034fb457",
   "metadata": {},
   "outputs": [
    {
     "name": "stdout",
     "output_type": "stream",
     "text": [
      "{'banana', 'apple'}\n"
     ]
    }
   ],
   "source": [
    "# Using the & operator\n",
    "d = a & b\n",
    "print(d)"
   ]
  },
  {
   "cell_type": "code",
   "execution_count": 55,
   "id": "2ec86ef2-c0b8-4d63-9dc8-e6c5077342cd",
   "metadata": {},
   "outputs": [
    {
     "name": "stdout",
     "output_type": "stream",
     "text": [
      "{1, 2}\n"
     ]
    }
   ],
   "source": [
    "# Using the difference() method\n",
    "a = {1, 2, 3, 4}\n",
    "b = {3, 4, 5, 6}\n",
    "c = a.difference(b)\n",
    "print(c)"
   ]
  },
  {
   "cell_type": "code",
   "execution_count": 56,
   "id": "4ef42dcd-f00e-46f8-b8a6-3ca7939073a7",
   "metadata": {},
   "outputs": [
    {
     "name": "stdout",
     "output_type": "stream",
     "text": [
      "{1, 2}\n"
     ]
    }
   ],
   "source": [
    "# Using the - operator\n",
    "d = a - b\n",
    "print(d)"
   ]
  },
  {
   "cell_type": "code",
   "execution_count": 57,
   "id": "fd787355-7a16-4c93-9a51-1a24f1c0f7fd",
   "metadata": {},
   "outputs": [
    {
     "name": "stdout",
     "output_type": "stream",
     "text": [
      "{5, 6}\n"
     ]
    }
   ],
   "source": [
    "# Note that b.difference(a) is different\n",
    "e = b.difference(a)\n",
    "print(e)"
   ]
  },
  {
   "cell_type": "code",
   "execution_count": null,
   "id": "0fbe297e-7dea-463f-ad3f-8fdf5aad5baa",
   "metadata": {},
   "outputs": [],
   "source": []
  }
 ],
 "metadata": {
  "kernelspec": {
   "display_name": "Python 3 (ipykernel)",
   "language": "python",
   "name": "python3"
  },
  "language_info": {
   "codemirror_mode": {
    "name": "ipython",
    "version": 3
   },
   "file_extension": ".py",
   "mimetype": "text/x-python",
   "name": "python",
   "nbconvert_exporter": "python",
   "pygments_lexer": "ipython3",
   "version": "3.13.5"
  }
 },
 "nbformat": 4,
 "nbformat_minor": 5
}
