{
 "cells": [
  {
   "cell_type": "code",
   "execution_count": 1,
   "id": "6b77799d-447a-4166-837b-52f61a6bb663",
   "metadata": {},
   "outputs": [
    {
     "name": "stdout",
     "output_type": "stream",
     "text": [
      "SOLVED EXAMPLE:\n",
      "Calculate the sum of first 5 even numbers\n",
      "First 5 even numbers: [2, 4, 6, 8, 10]\n",
      "Sum: 30\n"
     ]
    }
   ],
   "source": [
    "# Question: Calculate the sum of first 5 even numbers\n",
    "print(\"SOLVED EXAMPLE:\")\n",
    "print(\"Calculate the sum of first 5 even numbers\")\n",
    "first_5_even = [2, 4, 6, 8, 10]\n",
    "sum_even = sum(first_5_even)\n",
    "print(f\"First 5 even numbers: {first_5_even}\")\n",
    "print(f\"Sum: {sum_even}\")\n"
   ]
  },
  {
   "cell_type": "code",
   "execution_count": 3,
   "id": "f89c4ab1-ec25-46d0-ba24-a67c8351128b",
   "metadata": {},
   "outputs": [
    {
     "name": "stdout",
     "output_type": "stream",
     "text": [
      "55\n"
     ]
    }
   ],
   "source": [
    "# Question 1: Calculate the product of first 10 natural numbers\n",
    "sum=0\n",
    "for i in range (1,11):\n",
    "    sum=sum+i\n",
    "print(sum)"
   ]
  },
  {
   "cell_type": "code",
   "execution_count": 4,
   "id": "66e60fa3-1a07-4723-b7d0-8736714b7c79",
   "metadata": {},
   "outputs": [
    {
     "name": "stdout",
     "output_type": "stream",
     "text": [
      "the remainder is 2\n"
     ]
    }
   ],
   "source": [
    "# Question 2: Find the remainder when 156 is divided by 7\n",
    "print(\"the remainder is\",156%7)"
   ]
  },
  {
   "cell_type": "code",
   "execution_count": 5,
   "id": "b56db3a9-97f1-4158-b7a6-649b7a5e10fe",
   "metadata": {},
   "outputs": [
    {
     "name": "stdout",
     "output_type": "stream",
     "text": [
      "the square of 25 is 625\n"
     ]
    }
   ],
   "source": [
    "# Question 3: Calculate the square of 25\n",
    "print(\"the square of 25 is\",25**2)"
   ]
  },
  {
   "cell_type": "code",
   "execution_count": 6,
   "id": "8c31c967-6065-45d5-be66-021af5deaf32",
   "metadata": {},
   "outputs": [
    {
     "name": "stdout",
     "output_type": "stream",
     "text": [
      "the cube root of 125 is 5\n"
     ]
    }
   ],
   "source": [
    "# Question 4: Find the cube root of 125\n",
    "print(\"the cube root of 125 is\",round(125**(1/3)))"
   ]
  },
  {
   "cell_type": "code",
   "execution_count": 7,
   "id": "6f36f5aa-49df-4e60-9bb2-1311dc684a4b",
   "metadata": {},
   "outputs": [
    {
     "name": "stdout",
     "output_type": "stream",
     "text": [
      "15\n"
     ]
    }
   ],
   "source": [
    "# Question 5: Calculate the sum of digits in number 12345\n",
    "n=12345\n",
    "s1=str(n)\n",
    "sum=0\n",
    "for i in s1:\n",
    "    sum=sum+int(i)\n",
    "print(sum)\n",
    "    "
   ]
  },
  {
   "cell_type": "code",
   "execution_count": 8,
   "id": "b4b2a1d3-6402-430d-9f51-20f27c1ecec5",
   "metadata": {},
   "outputs": [
    {
     "name": "stdout",
     "output_type": "stream",
     "text": [
      "is prime\n"
     ]
    }
   ],
   "source": [
    "# Question 6: Check if 97 is a prime number\n",
    "n=97\n",
    "while True:\n",
    "    if n<2:\n",
    "        print(\"not a prime\")\n",
    "        break\n",
    "    for i in range (2,n):\n",
    "        if n%i==0:\n",
    "            print(\"not a prime\")\n",
    "            break\n",
    "    else: \n",
    "        print(\"is prime\")\n",
    "    break"
   ]
  },
  {
   "cell_type": "code",
   "execution_count": 9,
   "id": "0c32e77a-f6cd-4f95-8175-1628f445a577",
   "metadata": {},
   "outputs": [
    {
     "name": "stdout",
     "output_type": "stream",
     "text": [
      "factorial of 8 is 40320\n"
     ]
    }
   ],
   "source": [
    "# Question 7: Find the factorial of 8\n",
    "fact = 1\n",
    "for i in range(1,9):\n",
    "    fact*=i\n",
    "print(\"factorial of 8 is\", fact)"
   ]
  },
  {
   "cell_type": "code",
   "execution_count": 15,
   "id": "55c70d08-0460-416a-8631-e28ab112c660",
   "metadata": {},
   "outputs": [
    {
     "ename": "TypeError",
     "evalue": "'int' object is not callable",
     "output_type": "error",
     "traceback": [
      "\u001b[31m---------------------------------------------------------------------------\u001b[39m",
      "\u001b[31mTypeError\u001b[39m                                 Traceback (most recent call last)",
      "\u001b[36mCell\u001b[39m\u001b[36m \u001b[39m\u001b[32mIn[15]\u001b[39m\u001b[32m, line 2\u001b[39m\n\u001b[32m      1\u001b[39m x=[\u001b[32m15\u001b[39m,\u001b[32m23\u001b[39m,\u001b[32m31\u001b[39m,\u001b[32m42\u001b[39m,\u001b[32m56\u001b[39m]\n\u001b[32m----> \u001b[39m\u001b[32m2\u001b[39m avg=\u001b[38;5;28;43msum\u001b[39;49m\u001b[43m(\u001b[49m\u001b[43mx\u001b[49m\u001b[43m)\u001b[49m/\u001b[32m5\u001b[39m\n\u001b[32m      3\u001b[39m \u001b[38;5;28mprint\u001b[39m(avg)\n",
      "\u001b[31mTypeError\u001b[39m: 'int' object is not callable"
     ]
    }
   ],
   "source": [
    "x=[15,23,31,42,56]\n",
    "avg=sum(x)/5\n",
    "print(avg)"
   ]
  },
  {
   "cell_type": "code",
   "execution_count": null,
   "id": "75d2e876-e15e-413f-929b-cb36b809cff3",
   "metadata": {},
   "outputs": [],
   "source": []
  },
  {
   "cell_type": "code",
   "execution_count": null,
   "id": "997afad3-0349-4784-b8c2-2377e3f2f500",
   "metadata": {},
   "outputs": [],
   "source": []
  },
  {
   "cell_type": "code",
   "execution_count": 12,
   "id": "05d53725-7c5e-4895-ae85-8d16eae3b858",
   "metadata": {},
   "outputs": [
    {
     "name": "stdout",
     "output_type": "stream",
     "text": [
      "400\n"
     ]
    }
   ],
   "source": [
    "# Question 10: Calculate the sum of first 20 odd numbers\n",
    "total = 0\n",
    "for i in range(1,40,2):\n",
    "    total += i\n",
    "print(total)   "
   ]
  },
  {
   "cell_type": "code",
   "execution_count": null,
   "id": "3f78d97d-23e0-4d74-8bff-6ca2aa186ab4",
   "metadata": {},
   "outputs": [],
   "source": []
  },
  {
   "cell_type": "code",
   "execution_count": null,
   "id": "044e5738-f3c2-47b3-a59d-7003261d33c6",
   "metadata": {},
   "outputs": [],
   "source": []
  },
  {
   "cell_type": "code",
   "execution_count": null,
   "id": "ec00deab-7fc3-4814-874c-f47c49720e42",
   "metadata": {},
   "outputs": [],
   "source": []
  },
  {
   "cell_type": "code",
   "execution_count": null,
   "id": "b04c4040-7b99-4ece-9b4f-be5ae95d6e7f",
   "metadata": {},
   "outputs": [],
   "source": []
  },
  {
   "cell_type": "code",
   "execution_count": null,
   "id": "821e36e8-45a7-4902-ae71-f0f500ead8c2",
   "metadata": {},
   "outputs": [],
   "source": []
  },
  {
   "cell_type": "code",
   "execution_count": null,
   "id": "bcfab1b4-620f-4236-b62c-68cc74336db1",
   "metadata": {},
   "outputs": [],
   "source": []
  },
  {
   "cell_type": "code",
   "execution_count": null,
   "id": "b1cf4ff2-c0d7-48e6-b853-384475ddc5ae",
   "metadata": {},
   "outputs": [],
   "source": []
  },
  {
   "cell_type": "code",
   "execution_count": null,
   "id": "98bf19d8-ca72-4b2b-8f05-5830f05befaa",
   "metadata": {},
   "outputs": [],
   "source": []
  }
 ],
 "metadata": {
  "kernelspec": {
   "display_name": "Python 3 (ipykernel)",
   "language": "python",
   "name": "python3"
  },
  "language_info": {
   "codemirror_mode": {
    "name": "ipython",
    "version": 3
   },
   "file_extension": ".py",
   "mimetype": "text/x-python",
   "name": "python",
   "nbconvert_exporter": "python",
   "pygments_lexer": "ipython3",
   "version": "3.13.5"
  }
 },
 "nbformat": 4,
 "nbformat_minor": 5
}
