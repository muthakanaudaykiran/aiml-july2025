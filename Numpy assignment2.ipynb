{
 "cells": [
  {
   "cell_type": "code",
   "execution_count": 22,
   "id": "750d2573",
   "metadata": {},
   "outputs": [
    {
     "name": "stdout",
     "output_type": "stream",
     "text": [
      "Requirement already satisfied: numpy in c:\\users\\nagap\\appdata\\local\\programs\\python\\python313\\lib\\site-packages (2.3.2)\n",
      "Note: you may need to restart the kernel to use updated packages.\n"
     ]
    },
    {
     "name": "stderr",
     "output_type": "stream",
     "text": [
      "\n",
      "[notice] A new release of pip is available: 25.1.1 -> 25.2\n",
      "[notice] To update, run: python.exe -m pip install --upgrade pip\n"
     ]
    }
   ],
   "source": [
    "pip install numpy"
   ]
  },
  {
   "cell_type": "code",
   "execution_count": 23,
   "id": "9b4c7f33",
   "metadata": {},
   "outputs": [
    {
     "data": {
      "text/plain": [
       "array([[1, 6, 5],\n",
       "       [2, 2, 2],\n",
       "       [7, 8, 4]], dtype=int32)"
      ]
     },
     "execution_count": 23,
     "metadata": {},
     "output_type": "execute_result"
    }
   ],
   "source": [
    "import numpy as np\n",
    "data=np.random.randint(0,10,(3,3))\n",
    "data"
   ]
  },
  {
   "cell_type": "code",
   "execution_count": 5,
   "id": "ed7a3bb0",
   "metadata": {},
   "outputs": [
    {
     "data": {
      "text/plain": [
       "array([[ 1.34919034, -1.43885088, -1.41634229],\n",
       "       [ 0.75965868, -0.27749484,  1.20525733],\n",
       "       [ 1.14284437,  1.45302142,  0.57212537]])"
      ]
     },
     "execution_count": 5,
     "metadata": {},
     "output_type": "execute_result"
    }
   ],
   "source": [
    "np.random.randn(3,3)"
   ]
  },
  {
   "cell_type": "code",
   "execution_count": 30,
   "id": "e7dfafca",
   "metadata": {},
   "outputs": [
    {
     "data": {
      "text/plain": [
       "np.float64(0.9944024948323078)"
      ]
     },
     "execution_count": 30,
     "metadata": {},
     "output_type": "execute_result"
    }
   ],
   "source": [
    "np.random.randn(30,30).std()"
   ]
  },
  {
   "cell_type": "code",
   "execution_count": 31,
   "id": "80b5e94a",
   "metadata": {},
   "outputs": [
    {
     "data": {
      "text/plain": [
       "np.float64(-0.01725736430641939)"
      ]
     },
     "execution_count": 31,
     "metadata": {},
     "output_type": "execute_result"
    }
   ],
   "source": [
    "np.random.randn(30,30).mean()"
   ]
  },
  {
   "cell_type": "code",
   "execution_count": 3,
   "id": "4f20ddff",
   "metadata": {},
   "outputs": [],
   "source": [
    "import numpy as np"
   ]
  },
  {
   "cell_type": "code",
   "execution_count": null,
   "id": "3debb761",
   "metadata": {},
   "outputs": [
    {
     "name": "stdout",
     "output_type": "stream",
     "text": [
      "[[    1 25000   300  1200    10]\n",
      " [    2 32000   450  1500    15]\n",
      " [    3 28000   380  1100     8]\n",
      " [    4 41000   500  1600    20]\n",
      " [    5 35000   420  1400    12]\n",
      " [    6 27000   360  1300     9]\n",
      " [    7 39000   480  1700    18]\n",
      " [    8 30000   400  1250    14]\n",
      " [    9 45000   550  1800    25]\n",
      " [   10 33000   410  1450    11]]\n"
     ]
    }
   ],
   "source": [
    "\n",
    "\n",
    "retail_data = np.array([[ 1, 25000, 300, 1200, 10],\n",
    "    [2, 32000, 450, 1500, 15],\n",
    "    [3, 28000, 380, 1100, 8],\n",
    "    [4, 41000, 500, 1600, 20],\n",
    "    [5, 35000, 420, 1400, 12],\n",
    "    [6, 27000, 360, 1300, 9],\n",
    "    [7, 39000, 480, 1700, 18],\n",
    "    [8, 30000, 400, 1250, 14],\n",
    "    [9, 45000, 550, 1800, 25],\n",
    "    [10, 33000, 410, 1450, 11]])\n",
    "\n",
    "print(retail_data)"
   ]
  },
  {
   "cell_type": "code",
   "execution_count": 4,
   "id": "52a9a293",
   "metadata": {},
   "outputs": [
    {
     "data": {
      "text/plain": [
       "np.int64(142)"
      ]
     },
     "execution_count": 4,
     "metadata": {},
     "output_type": "execute_result"
    }
   ],
   "source": [
    "#1. What is the **total revenue** generated across all stores?\n",
    "retail_data[:,4].sum()"
   ]
  },
  {
   "cell_type": "code",
   "execution_count": 5,
   "id": "89aa9d68",
   "metadata": {},
   "outputs": [
    {
     "data": {
      "text/plain": [
       "np.int64(9)"
      ]
     },
     "execution_count": 5,
     "metadata": {},
     "output_type": "execute_result"
    }
   ],
   "source": [
    "#2. Which store recorded the **highest sales**?\n",
    "retail_data[:,1].argmax()+1"
   ]
  },
  {
   "cell_type": "code",
   "execution_count": 6,
   "id": "363d0d88",
   "metadata": {},
   "outputs": [
    {
     "data": {
      "text/plain": [
       "np.int64(1)"
      ]
     },
     "execution_count": 6,
     "metadata": {},
     "output_type": "execute_result"
    }
   ],
   "source": [
    "#3. Which store recorded the **lowest sales**?\n",
    "retail_data[:,1].argmin()+1"
   ]
  },
  {
   "cell_type": "code",
   "execution_count": 7,
   "id": "4e446f14",
   "metadata": {},
   "outputs": [
    {
     "data": {
      "text/plain": [
       "np.float64(33500.0)"
      ]
     },
     "execution_count": 7,
     "metadata": {},
     "output_type": "execute_result"
    }
   ],
   "source": [
    "#4. What is the **average daily sales** per store?\n",
    "retail_data[:,1].sum()/10"
   ]
  },
  {
   "cell_type": "code",
   "execution_count": 8,
   "id": "a76f9222",
   "metadata": {},
   "outputs": [
    {
     "data": {
      "text/plain": [
       "array([41000, 39000, 45000])"
      ]
     },
     "execution_count": 8,
     "metadata": {},
     "output_type": "execute_result"
    }
   ],
   "source": [
    "#5. How many stores achieved sales **above ₹35,000**?\n",
    "data = retail_data[:,1]\n",
    "data[data>35000]"
   ]
  },
  {
   "cell_type": "code",
   "execution_count": 9,
   "id": "ad0684d6",
   "metadata": {},
   "outputs": [
    {
     "data": {
      "text/plain": [
       "np.int64(1)"
      ]
     },
     "execution_count": 9,
     "metadata": {},
     "output_type": "execute_result"
    },
    {
     "name": "stdout",
     "output_type": "stream",
     "text": []
    }
   ],
   "source": [
    "6. Which store had the **highest customer footfall**?\n",
    "retail_data[:,2].argmin()+1"
   ]
  },
  {
   "cell_type": "code",
   "execution_count": 13,
   "id": "2aab09d9",
   "metadata": {},
   "outputs": [
    {
     "data": {
      "text/plain": [
       "np.float64(425.0)"
      ]
     },
     "execution_count": 13,
     "metadata": {},
     "output_type": "execute_result"
    }
   ],
   "source": [
    "#7. What is the **average number of customers** per store?\n",
    "retail_data[:,2].sum()/10"
   ]
  },
  {
   "cell_type": "code",
   "execution_count": 12,
   "id": "9a880e40",
   "metadata": {},
   "outputs": [
    {
     "data": {
      "text/plain": [
       "array([500, 480, 550])"
      ]
     },
     "execution_count": 12,
     "metadata": {},
     "output_type": "execute_result"
    }
   ],
   "source": [
    "#8. How many stores have **more than 450 customers**?\n",
    "data = retail_data[:,2]\n",
    "data[data>450]"
   ]
  },
  {
   "cell_type": "code",
   "execution_count": 11,
   "id": "a7b92d22",
   "metadata": {},
   "outputs": [
    {
     "data": {
      "text/plain": [
       "np.int64(1)"
      ]
     },
     "execution_count": 11,
     "metadata": {},
     "output_type": "execute_result"
    }
   ],
   "source": [
    "#9. Which store has the **lowest customer count**?\n",
    "retail_data[:,2].argmin()+1"
   ]
  },
  {
   "cell_type": "code",
   "execution_count": 10,
   "id": "4fd9a566",
   "metadata": {},
   "outputs": [
    {
     "data": {
      "text/plain": [
       "array([[    5, 35000,   420,  1400,    12]])"
      ]
     },
     "execution_count": 10,
     "metadata": {},
     "output_type": "execute_result"
    }
   ],
   "source": [
    "#10. Is there any store where **high sales do not correspond to high customers**?\n",
    "sal = retail_data[:,1].mean()\n",
    "cus = retail_data[:,2].mean()\n",
    "mis = retail_data[(retail_data[:,1]>sal)&(retail_data[:,2]<cus)]\n",
    "mis\n"
   ]
  },
  {
   "cell_type": "code",
   "execution_count": 14,
   "id": "ddffd459",
   "metadata": {},
   "outputs": [
    {
     "data": {
      "text/plain": [
       "np.int64(14300)"
      ]
     },
     "execution_count": 14,
     "metadata": {},
     "output_type": "execute_result"
    }
   ],
   "source": [
    "#11. What is the **total inventory** across all stores?\n",
    "retail_data[:,3].sum()"
   ]
  },
  {
   "cell_type": "code",
   "execution_count": 15,
   "id": "775af458",
   "metadata": {},
   "outputs": [
    {
     "data": {
      "text/plain": [
       "np.int64(9)"
      ]
     },
     "execution_count": 15,
     "metadata": {},
     "output_type": "execute_result"
    }
   ],
   "source": [
    "#12. Which store has the **highest inventory stock**?\n",
    "retail_data[:,3].argmax()+1"
   ]
  },
  {
   "cell_type": "code",
   "execution_count": 16,
   "id": "0f0c6384",
   "metadata": {},
   "outputs": [
    {
     "data": {
      "text/plain": [
       "array([1200, 1100, 1250])"
      ]
     },
     "execution_count": 16,
     "metadata": {},
     "output_type": "execute_result"
    }
   ],
   "source": [
    "#13. How many stores have **inventory less than 1300 units**?\n",
    "data = retail_data[:,3]\n",
    "data[data<1300]"
   ]
  },
  {
   "cell_type": "code",
   "execution_count": 17,
   "id": "0fb448ae",
   "metadata": {},
   "outputs": [
    {
     "data": {
      "text/plain": [
       "array([2.25 , 2.875, 2.   , 3.5  , 2.5  , 2.125, 3.25 , 2.75 , 4.125,\n",
       "       2.375])"
      ]
     },
     "execution_count": 17,
     "metadata": {},
     "output_type": "execute_result"
    }
   ],
   "source": [
    "#14. Which store has the **highest return rate** (returns ÷ inventory)?\n",
    "data = retail_data[:,4]/retail_data[:,3].argmax()+1\n",
    "data"
   ]
  },
  {
   "cell_type": "code",
   "execution_count": 18,
   "id": "f3bdb28d",
   "metadata": {},
   "outputs": [
    {
     "data": {
      "text/plain": [
       "array([[    4, 41000,   500,  1600,    20],\n",
       "       [    7, 39000,   480,  1700,    18],\n",
       "       [    9, 45000,   550,  1800,    25]])"
      ]
     },
     "execution_count": 18,
     "metadata": {},
     "output_type": "execute_result"
    }
   ],
   "source": [
    "#15. Which stores have **returns greater than 15 units**?\n",
    "data = retail_data[retail_data[:,4]>15]\n",
    "data"
   ]
  },
  {
   "cell_type": "code",
   "execution_count": null,
   "id": "3e149f8d",
   "metadata": {},
   "outputs": [],
   "source": [
    "#16. Is there a **positive correlation** between sales and customers?"
   ]
  },
  {
   "cell_type": "code",
   "execution_count": 19,
   "id": "28487b19",
   "metadata": {},
   "outputs": [
    {
     "data": {
      "text/plain": [
       "array([[    2, 32000,   450,  1500,    15]])"
      ]
     },
     "execution_count": 19,
     "metadata": {},
     "output_type": "execute_result"
    }
   ],
   "source": [
    "#17. Which store has **high customer visits but low sales**?\n",
    "cus = retail_data[:,2].mean()\n",
    "sal = retail_data[:,1].mean()\n",
    "data = retail_data[(retail_data[:,2]>cus)&(retail_data[:,1]<sal)]\n",
    "data\n"
   ]
  },
  {
   "cell_type": "code",
   "execution_count": 20,
   "id": "7d1c7f57",
   "metadata": {},
   "outputs": [
    {
     "data": {
      "text/plain": [
       "array([[    5, 35000,   420,  1400,    12]])"
      ]
     },
     "execution_count": 20,
     "metadata": {},
     "output_type": "execute_result"
    },
    {
     "name": "stdout",
     "output_type": "stream",
     "text": []
    }
   ],
   "source": [
    "18. Which store has **low customers but high sales**?\n",
    "cus = retail_data[:,2].mean()\n",
    "sal = retail_data[:,1].mean()\n",
    "data = retail_data[(retail_data[:,2]<cus)&(retail_data[:,1]>sal)]\n",
    "data"
   ]
  },
  {
   "cell_type": "code",
   "execution_count": 21,
   "id": "987e986a",
   "metadata": {},
   "outputs": [
    {
     "data": {
      "text/plain": [
       "np.int64(0)"
      ]
     },
     "execution_count": 21,
     "metadata": {},
     "output_type": "execute_result"
    }
   ],
   "source": [
    "#19. How many stores have **sales per customer above ₹90**?\n",
    "customer = retail_data[:,1] / retail_data[:,2]\n",
    "new = np.sum(customer>90)\n",
    "new"
   ]
  },
  {
   "cell_type": "code",
   "execution_count": null,
   "id": "1f65c435",
   "metadata": {},
   "outputs": [],
   "source": [
    "#20. Which stores could **benifit from customer acquisition campaigns ** (low customers,high inventory)"
   ]
  },
  {
   "cell_type": "code",
   "execution_count": 22,
   "id": "ec321c91",
   "metadata": {},
   "outputs": [
    {
     "data": {
      "text/plain": [
       "array([5000., 6400., 5600., 8200., 7000., 5400., 7800., 6000., 9000.,\n",
       "       6600.])"
      ]
     },
     "execution_count": 22,
     "metadata": {},
     "output_type": "execute_result"
    }
   ],
   "source": [
    "#21. If profit margin is **20% of sales**, what is the **profit per store**?\n",
    "data = 0.20 * retail_data[:,1]\n",
    "data\n"
   ]
  },
  {
   "cell_type": "code",
   "execution_count": 23,
   "id": "88420a92",
   "metadata": {},
   "outputs": [
    {
     "data": {
      "text/plain": [
       "np.int64(9)"
      ]
     },
     "execution_count": 23,
     "metadata": {},
     "output_type": "execute_result"
    }
   ],
   "source": [
    "#22. Which store has the **highest profit**?\n",
    "(retail_data[:,1]*0.20).argmax()+1"
   ]
  },
  {
   "cell_type": "code",
   "execution_count": 24,
   "id": "1bab932b",
   "metadata": {},
   "outputs": [
    {
     "data": {
      "text/plain": [
       "np.int64(1)"
      ]
     },
     "execution_count": 24,
     "metadata": {},
     "output_type": "execute_result"
    }
   ],
   "source": [
    "#23. Which store has the **lowest profit**?\n",
    "(retail_data[:,1]*0.20).argmin()+1"
   ]
  },
  {
   "cell_type": "code",
   "execution_count": 25,
   "id": "b99565c6",
   "metadata": {},
   "outputs": [
    {
     "data": {
      "text/plain": [
       "array([2500., 3200., 2800., 4100., 3500., 2700., 3900., 3000., 4500.,\n",
       "       3300.])"
      ]
     },
     "execution_count": 25,
     "metadata": {},
     "output_type": "execute_result"
    }
   ],
   "source": [
    "#24. If sales increase by **10% next month**, what are the **new sales figures**?\n",
    "(retail_data[:,1]*0.10) "
   ]
  },
  {
   "cell_type": "code",
   "execution_count": 26,
   "id": "abf4e316",
   "metadata": {},
   "outputs": [
    {
     "data": {
      "text/plain": [
       "array([27500., 35200., 30800., 45100., 38500., 29700., 42900., 33000.,\n",
       "       49500., 36300.])"
      ]
     },
     "execution_count": 26,
     "metadata": {},
     "output_type": "execute_result"
    }
   ],
   "source": [
    "#25. How will **total profit** change with the 10% sales increase?\n",
    "(retail_data[:,1]*0.10) + retail_data[:,1]"
   ]
  },
  {
   "cell_type": "code",
   "execution_count": 27,
   "id": "9bfa12ad",
   "metadata": {},
   "outputs": [
    {
     "data": {
      "text/plain": [
       "array([[    5, 35000,   420,  1400,    12]])"
      ]
     },
     "execution_count": 27,
     "metadata": {},
     "output_type": "execute_result"
    }
   ],
   "source": [
    "#26. Which stores need **inventory restocking** based on sales and current stock?\n",
    "sal = retail_data[:,1].mean()\n",
    "ret = retail_data[:,4].mean()\n",
    "data = retail_data[(retail_data[:,1]>sal) > (retail_data[:,4]>ret)]\n",
    "data"
   ]
  },
  {
   "cell_type": "code",
   "execution_count": 28,
   "id": "3695ddc7",
   "metadata": {},
   "outputs": [
    {
     "data": {
      "text/plain": [
       "array([[    2, 32000,   450,  1500,    15],\n",
       "       [    4, 41000,   500,  1600,    20],\n",
       "       [    7, 39000,   480,  1700,    18],\n",
       "       [    9, 45000,   550,  1800,    25]])"
      ]
     },
     "execution_count": 28,
     "metadata": {},
     "output_type": "execute_result"
    }
   ],
   "source": [
    "#27. Which stores show **high returns percentage** and might require **quality checks**?\n",
    "aver = retail_data[:,4].mean()\n",
    "res = retail_data[(retail_data[:,4] >aver)]\n",
    "res"
   ]
  },
  {
   "cell_type": "code",
   "execution_count": 31,
   "id": "9c342505",
   "metadata": {},
   "outputs": [
    {
     "data": {
      "text/plain": [
       "array([[    4, 41000,   500,  1600,    20],\n",
       "       [    7, 39000,   480,  1700,    18],\n",
       "       [    9, 45000,   550,  1800,    25]])"
      ]
     },
     "execution_count": 31,
     "metadata": {},
     "output_type": "execute_result"
    }
   ],
   "source": [
    "#30. Which stores can be considered for **expansion** based on strong sales and customer metrics?\n",
    "\n",
    "sal = retail_data[:,1].mean()\n",
    "cus = retail_data[:,2].mean()\n",
    "data = retail_data[(retail_data[:,1]>sal)&(retail_data[:,2]>cus)]\n",
    "data\n"
   ]
  },
  {
   "cell_type": "code",
   "execution_count": null,
   "id": "01e9c1ba",
   "metadata": {},
   "outputs": [],
   "source": []
  }
 ],
 "metadata": {
  "kernelspec": {
   "display_name": "Python 3",
   "language": "python",
   "name": "python3"
  },
  "language_info": {
   "codemirror_mode": {
    "name": "ipython",
    "version": 3
   },
   "file_extension": ".py",
   "mimetype": "text/x-python",
   "name": "python",
   "nbconvert_exporter": "python",
   "pygments_lexer": "ipython3",
   "version": "3.13.5"
  }
 },
 "nbformat": 4,
 "nbformat_minor": 5
}
