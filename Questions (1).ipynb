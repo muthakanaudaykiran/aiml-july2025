{
  "nbformat": 4,
  "nbformat_minor": 0,
  "metadata": {
    "colab": {
      "provenance": []
    },
    "kernelspec": {
      "name": "python3",
      "display_name": "Python 3"
    },
    "language_info": {
      "name": "python"
    }
  },
  "cells": [
    {
      "cell_type": "code",
      "execution_count": 1,
      "metadata": {
        "id": "-jxKEFXsGBCD"
      },
      "outputs": [],
      "source": [
        "retail_data = [\n",
        "    [\"Electronics\", [\n",
        "        [\"Mobiles\", [\n",
        "            [\"iPhone\", [\"128GB\", \"256GB\"]],\n",
        "            [\"Samsung Galaxy\", [\"128GB\", \"512GB\"]]\n",
        "        ]],\n",
        "        [\"Laptops\", [\n",
        "            [\"Dell\", [\"i5\", \"i7\"]],\n",
        "            [\"HP\", [\"Ryzen 5\", \"Ryzen 7\"]]\n",
        "        ]]\n",
        "    ]]\n",
        "]"
      ]
    },
    {
      "cell_type": "code",
      "source": [
        "# How many subcategories are listed under \"Electronics\"?\n",
        "retail_data[0][1]"
      ],
      "metadata": {
        "colab": {
          "base_uri": "https://localhost:8080/"
        },
        "id": "JBD9KREB79WL",
        "outputId": "20c35bfe-de88-4933-9f8d-a159b5d1970a"
      },
      "execution_count": 2,
      "outputs": [
        {
          "output_type": "execute_result",
          "data": {
            "text/plain": [
              "[['Mobiles',\n",
              "  [['iPhone', ['128GB', '256GB']], ['Samsung Galaxy', ['128GB', '512GB']]]],\n",
              " ['Laptops', [['Dell', ['i5', 'i7']], ['HP', ['Ryzen 5', 'Ryzen 7']]]]]"
            ]
          },
          "metadata": {},
          "execution_count": 2
        }
      ]
    },
    {
      "cell_type": "code",
      "source": [
        "#List all product variants available for the product \"iPhone\".\n",
        "retail_data[0][1][0][1][0][1]"
      ],
      "metadata": {
        "colab": {
          "base_uri": "https://localhost:8080/"
        },
        "id": "9EwzDEtJ8K0W",
        "outputId": "52f3077c-24a7-4318-c68e-0324d0327ae1"
      },
      "execution_count": 6,
      "outputs": [
        {
          "output_type": "execute_result",
          "data": {
            "text/plain": [
              "['128GB', '256GB']"
            ]
          },
          "metadata": {},
          "execution_count": 6
        }
      ]
    },
    {
      "cell_type": "code",
      "source": [
        "# What are the two types of processors available for HP laptops?\n",
        "retail_data[0][1][1][1][1][1]"
      ],
      "metadata": {
        "colab": {
          "base_uri": "https://localhost:8080/"
        },
        "id": "9878d1A48jDT",
        "outputId": "b667b5a8-5279-4e3a-c156-0814230b4080"
      },
      "execution_count": 13,
      "outputs": [
        {
          "output_type": "execute_result",
          "data": {
            "text/plain": [
              "['Ryzen 5', 'Ryzen 7']"
            ]
          },
          "metadata": {},
          "execution_count": 13
        }
      ]
    },
    {
      "cell_type": "code",
      "source": [
        "# Which subcategory contains the product \"Samsung Galaxy\"?\n",
        "retail_data[0][1][0][1][1][1]"
      ],
      "metadata": {
        "colab": {
          "base_uri": "https://localhost:8080/"
        },
        "id": "HbrBHnVk89cp",
        "outputId": "274763cd-5c48-4a4a-e3e3-8a0b1fab7406"
      },
      "execution_count": 16,
      "outputs": [
        {
          "output_type": "execute_result",
          "data": {
            "text/plain": [
              "['128GB', '512GB']"
            ]
          },
          "metadata": {},
          "execution_count": 16
        }
      ]
    },
    {
      "cell_type": "markdown",
      "source": [
        "  "
      ],
      "metadata": {
        "id": "iia_hyLM9ulm"
      }
    }
  ]
}